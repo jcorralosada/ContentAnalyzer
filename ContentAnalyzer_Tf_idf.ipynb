{
  "cells": [
    {
      "cell_type": "markdown",
      "metadata": {
        "id": "nbNYJVQGj8_b"
      },
      "source": [
        "# Modelo de TF-IDF"
      ]
    },
    {
      "cell_type": "code",
      "execution_count": null,
      "metadata": {
        "colab": {
          "base_uri": "https://localhost:8080/"
        },
        "id": "A2I06-Zf7TPy",
        "outputId": "61911c59-8bd6-40e3-880c-7f9792acdd7c"
      },
      "outputs": [
        {
          "name": "stdout",
          "output_type": "stream",
          "text": [
            "Requirement already satisfied: SpeechRecognition in /usr/local/lib/python3.7/dist-packages (3.8.1)\n",
            "Requirement already satisfied: soundfile in /usr/local/lib/python3.7/dist-packages (0.10.3.post1)\n",
            "Requirement already satisfied: cffi>=1.0 in /usr/local/lib/python3.7/dist-packages (from soundfile) (1.14.5)\n",
            "Requirement already satisfied: pycparser in /usr/local/lib/python3.7/dist-packages (from cffi>=1.0->soundfile) (2.20)\n"
          ]
        }
      ],
      "source": [
        "!pip install SpeechRecognition\n",
        "!pip install soundfile"
      ]
    },
    {
      "cell_type": "code",
      "execution_count": null,
      "metadata": {
        "colab": {
          "base_uri": "https://localhost:8080/"
        },
        "id": "fF9Iww5JB46b",
        "outputId": "e1b4cc99-424a-4a08-a2a1-9786c2e39b9a"
      },
      "outputs": [
        {
          "name": "stdout",
          "output_type": "stream",
          "text": [
            "Drive already mounted at /content/drive; to attempt to forcibly remount, call drive.mount(\"/content/drive\", force_remount=True).\n"
          ]
        }
      ],
      "source": [
        "from google.colab import drive\n",
        "drive.mount('/content/drive')"
      ]
    },
    {
      "cell_type": "markdown",
      "metadata": {
        "id": "SSzpOzV8609c"
      },
      "source": [
        "#class read_txt.py\n"
      ]
    },
    {
      "cell_type": "code",
      "execution_count": null,
      "metadata": {
        "id": "_8rRINYj61YG"
      },
      "outputs": [],
      "source": [
        "#Create dateFrame\n",
        "def read(path):\n",
        "  nltk.download('stopwords')\n",
        "\n",
        "  stop = stopwords.words('english')\n",
        "\n",
        "  #Apply latin encode\n",
        "  df = pd.read_csv(path, encoding='latin1') \n",
        "\n",
        "\n",
        "  #Change text to lowercase\n",
        "  df = df.applymap(str.lower) \n",
        "  \n",
        "  return df"
      ]
    },
    {
      "cell_type": "markdown",
      "metadata": {
        "id": "GKii5dri6pi2"
      },
      "source": [
        "#class ContentAnalyzer.py"
      ]
    },
    {
      "cell_type": "code",
      "execution_count": null,
      "metadata": {
        "colab": {
          "base_uri": "https://localhost:8080/"
        },
        "id": "vMKy--tz_bic",
        "outputId": "18c6b844-abed-46bc-bd97-dd653356b3c4"
      },
      "outputs": [
        {
          "name": "stdout",
          "output_type": "stream",
          "text": [
            "[nltk_data] Downloading package stopwords to /root/nltk_data...\n",
            "[nltk_data]   Package stopwords is already up-to-date!\n"
          ]
        }
      ],
      "source": [
        "#Scikit-learn\n",
        "from sklearn.feature_extraction.text import CountVectorizer\n",
        "#from sklearn.datasets import load_files\n",
        "from sklearn.feature_extraction.text import TfidfTransformer\n",
        "from sklearn.naive_bayes import MultinomialNB\n",
        "from sklearn.linear_model import SGDClassifier\n",
        "from sklearn.neighbors import KNeighborsClassifier\n",
        "from sklearn.pipeline import Pipeline\n",
        "#from sklearn.model_selection import train_test_split\n",
        "\n",
        "from joblib import dump\n",
        "from gensim.parsing.preprocessing import remove_stopwords\n",
        "\n",
        "#Speech recognition\n",
        "import speech_recognition as sr\n",
        "import soundfile as sf\n",
        "\n",
        "#Pandas & Pumpy\n",
        "import pandas as pd\n",
        "import numpy as np\n",
        "\n",
        "#Stopwords\n",
        "import nltk\n",
        "from nltk.corpus import stopwords\n",
        "#Punctuation characters\n",
        "# from string import punctuation\n",
        "# import re\n",
        "from nltk.tokenize import word_tokenize\n",
        "\n",
        "nltk.download('stopwords')\n",
        "# nltk.download('punkt')\n",
        "\n",
        "#Graphics and plots\n",
        "import matplotlib.pyplot as plt\n",
        "from matplotlib.pyplot import figure\n",
        "\n",
        "#from sklearn.preprocessing import StandardScaler\n",
        "#from sklearn.pipeline import make_pipeline\n",
        "\n",
        "#\n",
        "# Class used to pass from a speech to text,\n",
        "# and analyze the content of it\n",
        "#\n",
        "class ContentAnalyzer():\n",
        "\n",
        "    #Constructor class \n",
        "\n",
        "    #Class Atributes: \n",
        "      # txt_path            =   Path to news\n",
        "      # path_model          =   Path to save the model\n",
        "      # dataset             =   dataset loaded\n",
        "        #self.dataset[0] = Train dataset\n",
        "        #self.dataset[1] = Test dataset\n",
        "        #self.dataset[2] = Validation dataset\n",
        "      # text_clf            =   Pipeline Object to store the several parts\n",
        "      # categories          =   Auxiliar array to know the characteristics\n",
        "      # correct_predictions =   Auxiliar array to store the correct predictions of the model.\n",
        "\n",
        "    def __init__(self, path_model, txt_path, categories):\n",
        "        \n",
        "        self.txt_path = txt_path\n",
        "        self.path_model = path_model\n",
        "        self.dataset = None\n",
        "        self.text_clf = None\n",
        "        self.categories = categories\n",
        "        self.correctPredictions = [0] * len(self.categories)\n",
        "        self.accuracy = 0.0\n",
        "\n",
        "    # Training method\n",
        "    # dataset_part : It can be either the combination X_train - Y_train or X_test - Y_test\n",
        "    def fit(self, dataset_part, selection_val=0):\n",
        "      #Versión por defecto: Entrena 3 modelos (+Coste)\n",
        "      if(selection_val == 0):\n",
        "        self.fit_neighbors(dataset_part, 20)\n",
        "        self.describe()\n",
        "\n",
        "        self.fit_NB(dataset_part)\n",
        "        self.eval_NB(self.dataset[1])\n",
        "        self.describe()\n",
        "\n",
        "        self.fit_SGDC(train_dataset)\n",
        "        self.eval_NB(self.dataset[1])\n",
        "        self.describe()\n",
        "      #Versiones reducidas\n",
        "      # 1: Vecinos con 20 vecinos\n",
        "      # 2: Naive Bayes\n",
        "      # 3: SGDC\n",
        "      if(selection_val == 1):\n",
        "        self.fit_neighbors(dataset_part, 20)\n",
        "        self.describe()\n",
        "      if(selection_val == 2):\n",
        "        self.fit_NB(dataset_part)\n",
        "        self.eval_NB(self.dataset[1])\n",
        "        self.describe()\n",
        "      if(selection_val == 3):\n",
        "        self.fit_SGDC(train_dataset)\n",
        "        self.eval_NB(self.dataset[1])\n",
        "        self.describe()\n",
        "\n",
        "    def fit_neighbors(self, dataset_part, neighbors):\n",
        "\n",
        "        #Count Words\n",
        "        count_vect = CountVectorizer()\n",
        "\n",
        "        #Arrays: 0 training, 1 testing\n",
        "        #X_train_counts = count_vect.fit_transform(dataset_part.head(dataset_part.size))  \n",
        "        X_train_counts = count_vect.fit_transform(dataset_part.news)  \n",
        "        #Transform by ocurrency\n",
        "        tf_transformer = TfidfTransformer(use_idf=False).fit(X_train_counts)\n",
        "        X_train_tf = tf_transformer.transform(X_train_counts)\n",
        "\n",
        "        \n",
        "        #Trasform to ocurrency and weight\n",
        "        tfidf_transformer = TfidfTransformer()\n",
        "        X_train_tfidf = tfidf_transformer.fit_transform(X_train_counts)\n",
        "\n",
        "        #Classifier\n",
        "        clf = KNeighborsClassifier(n_neighbors=neighbors)       \n",
        "               \n",
        "        #Pipelined to work better in the predict work\n",
        "        \n",
        "        text_clf = Pipeline([\n",
        "            ('vect', count_vect),\n",
        "            ('tfidf', tfidf_transformer),\n",
        "            ('clf', clf),\n",
        "            ])\n",
        "        \n",
        "        # Fit the text classifier\n",
        "        text_clf.fit(dataset_part.news, dataset_part.intCategory)\n",
        "        self.text_clf = text_clf\n",
        "\n",
        "    #Method fit with Naive Bayes\n",
        "    def fit_NB(self,train_dataset,alphaParam):\n",
        "      count_vect = CountVectorizer()\n",
        "      X_train_counts = count_vect.fit_transform(train_dataset.news)\n",
        "      X_train_counts.shape\n",
        "\n",
        "      tfidf_transformer = TfidfTransformer()\n",
        "      X_train_tfidf = tfidf_transformer.fit_transform(X_train_counts)\n",
        "      X_train_tfidf.shape\n",
        "      \n",
        "      clf = MultinomialNB().fit(X_train_tfidf, train_dataset.intCategory.to_numpy())\n",
        "\n",
        "      text_clf = Pipeline([('vect', CountVectorizer()),('tfidf', TfidfTransformer()),('clf', MultinomialNB(alpha=alphaParam))])\n",
        "      #Pipelined to work better in the predict work\n",
        "      text_clf = text_clf.fit(train_dataset.news, train_dataset.intCategory.to_numpy())\n",
        "      \n",
        "      self.text_clf = text_clf\n",
        "      \n",
        "    #Method fit with SGDClassifier\n",
        "    def fit_SGDC(self,train_dataset,lossParam,alphaParam,learning_rateParam):\n",
        "      count_vect = CountVectorizer()\n",
        "      X_train_counts = count_vect.fit_transform(train_dataset.news)\n",
        "      X_train_counts.shape\n",
        "\n",
        "      tfidf_transformer = TfidfTransformer()\n",
        "      X_train_tfidf = tfidf_transformer.fit_transform(X_train_counts)\n",
        "      X_train_tfidf.shape\n",
        "\n",
        "      clf = MultinomialNB().fit(X_train_tfidf, train_dataset.intCategory.to_numpy())\n",
        "      #Pipelined to work better in the predict work\n",
        "      text_clf = Pipeline([('vect', CountVectorizer()),('tfidf', TfidfTransformer()),('clf-svm', SGDClassifier(loss=lossParam, penalty='l2',alpha=alphaParam, \n",
        "                                                                                                               random_state=42,learning_rate=learning_rateParam))])\n",
        "\n",
        "      text_clf = text_clf.fit(train_dataset.news, train_dataset.intCategory.to_numpy())\n",
        "\n",
        "      self.text_clf = text_clf  \n",
        "\n",
        "    def eval_NB(self,test_dataset):     \n",
        "      predicted = self.text_clf.predict(test_dataset.news)\n",
        "      resultado = np.mean(predicted == test_dataset.intCategory.to_numpy())\n",
        "\n",
        "\n",
        "    #Text-driven prediction method\n",
        "    def predict(self, list_news):\n",
        "\n",
        "        if self.text_clf == None:\n",
        "          #Modelo no entrenado\n",
        "          text_clf = self.fit(self.dataset[0])\n",
        "\n",
        "        #Modelo ya entrenado\n",
        "        text_clf = self.text_clf\n",
        "      \n",
        "        #Applying the count vectorizer\n",
        "        X_new_counts = text_clf[0].transform(list_news)\n",
        "\n",
        "        #Applying the tf-idf transformer\n",
        "        X_new_tfidf = text_clf[1].transform(X_new_counts)\n",
        "\n",
        "        #Predicting the resullt\n",
        "        predicted = text_clf[2].predict(X_new_tfidf)\n",
        "      \n",
        "        for doc, category in zip(list_news, predicted):     \n",
        "            return self.categories[category]\n",
        "\n",
        "\n",
        "    #Method to print the input text and its category\n",
        "    def print_predict(self,news):\n",
        "      return'{} => {}'.format(news[0],  self.predict(news))\n",
        "\n",
        "    #    Audio-driven prediction method\n",
        "    #    x: audioFile\n",
        "    #\n",
        "    def predict_audio(self,sound):\n",
        "        r = sr.Recognizer()\n",
        "       \n",
        "        with sr.AudioFile(sound) as source:\n",
        "            r.adjust_for_ambient_noise(source)\n",
        "            audio = r.record(source)\n",
        "            \n",
        "            try:\n",
        "                print(self.print_predict([r.recognize_google(audio)]))\n",
        "                \n",
        "            except Exception as e: \n",
        "                print(e)\n",
        "\n",
        "    #Method that stores the model created into a path\n",
        "    def store(self, path_model):\n",
        "        try:\n",
        "            dump(self.text_clf[2], path_model)\n",
        "        except Exception as e:\n",
        "            print(e)\n",
        "\n",
        "    #Method to evaluate the model on which we are working\n",
        "    #TODO: with val_data -> test_data\n",
        "\n",
        "        #self.dataset[0] = Train dataset\n",
        "        #self.dataset[1] = Test dataset\n",
        "        #self.dataset[2] = Validation dataset\n",
        "    def eval(self,testDataset):\n",
        "        #Metric used: Accuracy (correctly predicted class / total testing class) × 100%\n",
        "        news = testDataset.shape\n",
        "        correctPredict = 0\n",
        "        prediccion = \" \"\n",
        "        data = testDataset\n",
        "        self.correctPredictions = [0] * len(self.categories)\n",
        "\n",
        "        for col in data.index:\n",
        "          newCategory = data.loc[ col , 'category']\n",
        "          newToPredict = data.loc[ col , 'news' ]\n",
        "          prediction = self.predict([newToPredict])\n",
        "\n",
        "          if newCategory == prediction:\n",
        "            correctPredict+=1\n",
        "            self.correctPredictions[data.loc[col, 'intCategory']] +=1 \n",
        "        self.accuracy = (correctPredict / news[0]) * 100\n",
        "        return (correctPredict / news[0]) * 100\n",
        "\n",
        "    #toString method to describe the result\n",
        "    def describe(self):\n",
        "        print(\"##### Describe #####\")\n",
        "        print(\"Dataset path: \"+ self.txt_path)\n",
        "        print(\"\\n\")\n",
        "\n",
        "        print(\"### Train ###\")\n",
        "        print(\"Shape:\"+ str(self.dataset[0].shape))\n",
        "        trainSerie = self.getNewsDistribution(self.dataset[0])\n",
        "        print(trainSerie)   \n",
        "        print(\"\\n\")\n",
        "\n",
        "        print(\"### Test ###\")\n",
        "        print(\"Shape:\"+ str(self.dataset[1].shape))\n",
        "        testSerie = self.getNewsDistribution(self.dataset[1])\n",
        "        print(testSerie)  \n",
        "        print(\"\\n\")\n",
        "\n",
        "        print(\"### Validation ###\")\n",
        "        print(\"Shape:\"+ str(self.dataset[2].shape))\n",
        "        valSerie = self.getNewsDistribution(self.dataset[2])\n",
        "        print(valSerie)\n",
        "        print(\"\\n\")\n",
        "        \n",
        "        print(\"Error:\" + str(self.eval(self.dataset[1])))\n",
        "        self.overall_distribution_plot(trainSerie, testSerie, valSerie)\n",
        "        self.dataset_distribution_plot(trainSerie, testSerie, valSerie)\n",
        "        self.accuracy_plot(testSerie)\n",
        "\n",
        "    #Method to get the news distribution of a dataset by category\n",
        "    def getNewsDistribution(self,dataset):\n",
        "      return dataset[['category']].value_counts(sort=False)\n",
        "\n",
        "    #Method to get the numerical of a type \n",
        "    #This is needed by the method fit, which requires the numerical types of the categories\n",
        "    def getNumericalType(self,speech_dataset):\n",
        "        categories = self.categories\n",
        "        final = list()\n",
        "\n",
        "        for x in speech_dataset.category:\n",
        "          final.append(categories.index(x))\n",
        "         \n",
        "        return final\n",
        "      \n",
        "    #Aux method to remove stowords from a text\n",
        "    def quitarStopWords(self, text):\n",
        "      stop = stopwords.words('english')\n",
        "      text_tokens = word_tokenize(text)\n",
        "      tokens_without_sw = [word for word in text_tokens if not word in stop]\n",
        "      filtered_sentence = (\" \").join(tokens_without_sw)\n",
        "      \n",
        "      return filtered_sentence\n",
        "\n",
        "    #Method that process the data before it enters to the training\n",
        "    #Scope: Private\n",
        "    def _preprocess_data(self, x):\n",
        "       #speech_dataset has now 2 columns: news : categories\n",
        "       #For prediction, we also need to asign a number to each type, to have a integer indexation\n",
        "\n",
        "        #List with all English stopwords and punctuation characters\n",
        "        stop = stopwords.words('english')\n",
        "\n",
        "        #Apply latin encode (special characters)\n",
        "        df = pd.read_csv(self.txt_path, encoding='latin1')\n",
        "\n",
        "        #Delete stopwords and punctuation characters\n",
        "        #df = df.applymap(self.quitarStopWords)\n",
        "        df = df.applymap(remove_stopwords)\n",
        "        df['news'] = df['news'].str.replace('[^\\w\\s]','')\n",
        "      \n",
        "        #Change text to lowercase\n",
        "        df = df.applymap(str.lower) \n",
        "        speech_dataset = df\n",
        "\n",
        "        business_i = self.getNumericalType(speech_dataset)\n",
        "\n",
        "\n",
        "        speech_dataset = speech_dataset.assign(intCategory = business_i)\n",
        "        \n",
        "        #Create train,validation and test datasets \n",
        "        speech_train, speech_val_data, speech_test = np.split(speech_dataset.sample(frac=1), [int(.6*len(df)), int(.8*len(df))])\n",
        "       \n",
        "\n",
        "        #speech_train, speech_test= train_test_split(speech_dataset, test_size=0.25) #Split the dataset into two. Text and train\n",
        "        #self.dataset[0] = Train dataset\n",
        "        #self.dataset[1] = Test dataset\n",
        "        #self.dataset[2] = Validation dataset\n",
        "        self.dataset = [speech_train, speech_test,speech_val_data]\n",
        "\n",
        "        return self.dataset\n",
        "\n",
        "    #Method to load a propocessed dataset\n",
        "    def setPrepocessDataset(self,preprocessData):\n",
        "      self.dataset = preprocessData\n",
        "\n",
        "    ##########################################\n",
        "    # Plots of news distribution by category #\n",
        "    ##########################################\n",
        "    def overall_distribution_plot(self, trainSerie, testSerie, valSerie):\n",
        "        fig, axes = plt.subplots(nrows=1, ncols=1,figsize=(8,8))\n",
        "\n",
        "        #Create plot\n",
        "        df = pd.DataFrame({'Categories':self.categories , 'News amount':valSerie.values + testSerie.values + trainSerie.values})\n",
        "        df.plot.bar(ax=axes, title ='News dataset distribution',color={\"#32a8a0\"})\n",
        "\n",
        "        #Asing labels to each bar\n",
        "        axes.set_xticklabels(df['Categories'], rotation=0)\n",
        "\n",
        "        totalCategories = [0]* len(trainSerie.values)\n",
        "        for x in range(len(trainSerie.values)):\n",
        "          totalCategories[x] = testSerie.values[x] + valSerie.values[x] + trainSerie.values[x]\n",
        "        print(\"Distrubución total por categorias: \"+ str(totalCategories))\n",
        "\n",
        "\n",
        "    ###################################################\n",
        "    # Plots of datasets news distribution by category #\n",
        "    ###################################################\n",
        "    def dataset_distribution_plot(self, trainSerie, testSerie, valSerie):\n",
        "\n",
        "      fig, axes = plt.subplots(nrows=1, ncols=3,figsize=(18,5))\n",
        "\n",
        "      # #Plot that shows the news distribution of Train Dataset \n",
        "      trainSerie = self.getNewsDistribution(self.dataset[0])\n",
        "      df = pd.DataFrame({'Categories':categorias, 'News amount':trainSerie.values})\n",
        "\n",
        "      df.plot.bar(ax=axes[0],title ='Train Dataset Distribution',color={\"#6a06bd\"})\n",
        "\n",
        "      #Plot that shows the news distribution of Test Dataset\n",
        "      testSerie = self.getNewsDistribution(self.dataset[1])\n",
        "      df = pd.DataFrame({'Categories':categorias , 'News amount':testSerie.values})\n",
        "\n",
        "      df.plot.bar(ax=axes[1],title ='Test Dataset Distribution',color={\"#fcb103\"})\n",
        "\n",
        "      #Plot that shows the news distribution of Validation Dataset \n",
        "      valSerie = self.getNewsDistribution(self.dataset[2])\n",
        "      df = pd.DataFrame({'Categories':categorias , 'News amount':valSerie.values})\n",
        "\n",
        "      df.plot.bar(ax=axes[2], title ='Validation Dataset Distribution',color={\"#03fca1\"})\n",
        "\n",
        "      #Asing labels to each bar\n",
        "      axes[0].set_xticklabels(df['Categories'], rotation=0)\n",
        "      axes[1].set_xticklabels(df['Categories'], rotation=0)\n",
        "      axes[2].set_xticklabels(df['Categories'], rotation=0)\n",
        "\n",
        "\n",
        "    ##########################################\n",
        "    # Plots of accuracy by category          #\n",
        "    ##########################################\n",
        "    def accuracy_plot(self, testSerie):\n",
        "      figure(figsize=(8,8))\n",
        "      #Set height of bar\n",
        "\n",
        "      #bars1 = a.tamNews\n",
        "      bars1 = testSerie\n",
        "      bars2 = self.correctPredictions\n",
        "\n",
        "      #Set position of bar on X axis\n",
        "      barWidth = 0.4\n",
        "      r1 = np.arange(len(bars1))\n",
        "      r2 = [x + barWidth for x in r1]\n",
        "      \n",
        "      #Make the plot\n",
        "      plt.bar(r1, bars1, color='#4287f5', width=barWidth, edgecolor='white', label='News amount')\n",
        "      plt.bar(r2, bars2, color='#42e9f5', width=barWidth, edgecolor='white', label='Correctly predicted news')\n",
        "\n",
        "\n",
        "      #Add xticks on the middle of the group bars\n",
        "      plt.title('Accuracy')\n",
        "      plt.xticks([r + barWidth for r in range(len(bars1))], self.categories)\n",
        "\n",
        "      # Create legend & Show graphic\n",
        "      plt.legend()\n",
        "      plt.show()\n"
      ]
    },
    {
      "cell_type": "code",
      "execution_count": null,
      "metadata": {
        "colab": {
          "base_uri": "https://localhost:8080/"
        },
        "id": "taaKq-NB6eWF",
        "outputId": "af2f2347-a575-4cd6-ff43-7b260f5a4510"
      },
      "outputs": [
        {
          "name": "stdout",
          "output_type": "stream",
          "text": [
            "[nltk_data] Downloading package stopwords to /root/nltk_data...\n",
            "[nltk_data]   Package stopwords is already up-to-date!\n",
            "                                                    news        category\n",
            "0      agustín de rojas villandrando el viaje entrete...  agustinderojas\n",
            "1       y para que de ello conste de pedimiento de la...  agustinderojas\n",
            "2       y mandamos al impresor que ansí imprimiere el...  agustinderojas\n",
            "3       juan de amezqueta. privilegio   don felipe po...  agustinderojas\n",
            "4       en testimonio de lo cual mandamos despachar l...  agustinderojas\n",
            "...                                                  ...             ...\n",
            "15463   otros decían que había andado atrevida en dar...           zayas\n",
            "15464   todo esto traía a don pedro avergonzado y con...           zayas\n",
            "15465   vino a ser tan pública esta amistad que la ci...           zayas\n",
            "15466   mas de dos meses aguardó el falso don pedro l...           zayas\n",
            "15467   ¿adónde te has ido decía amada esposa mía?...           zayas\n",
            "\n",
            "[15468 rows x 2 columns]\n"
          ]
        }
      ],
      "source": [
        "#txt_path = '/content/drive/MyDrive/Cuarto/practicas_externas/Proyecto/news.txt' #Path Raul\n",
        "txt_path = '/content/novelasOro_Zayas.txt'\n",
        "#txt_path = '/content/drive/MyDrive/Cuarto/practicas_externas/Proyecto/newsCNNsmall.txt'\n",
        "audio1_path = '/content/drive/MyDrive/Cuarto/practicas_externas/Proyecto/audios/audio_001.wav' #Path Raul\n",
        "audio2_path = '/content/drive/MyDrive/Cuarto/practicas_externas/Proyecto/audios/audio_002.wav' #Path Raul\n",
        "\n",
        "#Create dataframe to get unique categories\n",
        "df = read(txt_path)\n",
        "\n",
        "categorias = df.category.unique()\n",
        "categorias =categorias.tolist()\n",
        "print(df)\n",
        "\n",
        "#txt_path = '/content/news.txt'\n",
        "#audio1_path = '/content/audioRafa.wav'"
      ]
    },
    {
      "cell_type": "code",
      "execution_count": null,
      "metadata": {
        "id": "ZPzvKTsW5ZeJ"
      },
      "outputs": [],
      "source": [
        "# Model creation #\n",
        "modeloTfidf = ContentAnalyzer(\"model.joblib\", txt_path, categorias)"
      ]
    },
    {
      "cell_type": "code",
      "execution_count": null,
      "metadata": {
        "id": "vJr_MEoRrX9_"
      },
      "outputs": [],
      "source": [
        "# Data preprocessing #\n",
        "preprocessDataset = modeloTfidf._preprocess_data(txt_path)"
      ]
    },
    {
      "cell_type": "code",
      "execution_count": null,
      "metadata": {
        "colab": {
          "base_uri": "https://localhost:8080/"
        },
        "id": "EE8qlXxpSBDZ",
        "outputId": "00152fec-939d-447e-c40e-6d694a635216"
      },
      "outputs": [
        {
          "name": "stdout",
          "output_type": "stream",
          "text": [
            "<class 'list'>\n"
          ]
        }
      ],
      "source": [
        "print(type(preprocessDataset))"
      ]
    },
    {
      "cell_type": "code",
      "execution_count": null,
      "metadata": {
        "id": "8nxIyEys-KO-"
      },
      "outputs": [],
      "source": [
        "# Preprocessed data #\n",
        "modeloTfidf.setPrepocessDataset(preprocessDataset)\n",
        "\n",
        "train_dataset = modeloTfidf.dataset[0]\n",
        "test_dataset = modeloTfidf.dataset[2]"
      ]
    },
    {
      "cell_type": "code",
      "execution_count": null,
      "metadata": {
        "id": "NAA3wADDxvXx"
      },
      "outputs": [],
      "source": [
        "#Save in an array every accuracy rate\n",
        "accuracy = list()"
      ]
    },
    {
      "cell_type": "code",
      "execution_count": null,
      "metadata": {
        "colab": {
          "base_uri": "https://localhost:8080/",
          "height": 1000
        },
        "id": "NMuNuMg2yWz_",
        "outputId": "1dde27b5-5a17-4ccb-9555-7979dc241e8b"
      },
      "outputs": [
        {
          "name": "stdout",
          "output_type": "stream",
          "text": [
            "##### Describe #####\n",
            "Dataset path: /content/novelasOro_Zayas.txt\n",
            "\n",
            "\n",
            "### Train ###\n",
            "Shape:(9280, 3)\n",
            "category        \n",
            "agustinderojas       482\n",
            "avellaneda           343\n",
            "carvajal             258\n",
            "castillo             326\n",
            "cervantes           2045\n",
            "cervantessalazar     540\n",
            "frayluisdeleon       525\n",
            "lazarillo            151\n",
            "lope                 669\n",
            "mateoaleman          467\n",
            "mendoza              125\n",
            "montalban            134\n",
            "otalora              772\n",
            "pasamonte            205\n",
            "suarezfigueroa       699\n",
            "tirso                265\n",
            "ubeda                511\n",
            "valdes               464\n",
            "zayas                299\n",
            "dtype: int64\n",
            "\n",
            "\n",
            "### Test ###\n",
            "Shape:(3094, 3)\n",
            "category        \n",
            "agustinderojas      169\n",
            "avellaneda           91\n",
            "carvajal             71\n",
            "castillo            102\n",
            "cervantes           723\n",
            "cervantessalazar    175\n",
            "frayluisdeleon      193\n",
            "lazarillo            50\n",
            "lope                213\n",
            "mateoaleman         173\n",
            "mendoza              48\n",
            "montalban            40\n",
            "otalora             241\n",
            "pasamonte            69\n",
            "suarezfigueroa      212\n",
            "tirso                92\n",
            "ubeda               175\n",
            "valdes              152\n",
            "zayas               105\n",
            "dtype: int64\n",
            "\n",
            "\n",
            "### Validation ###\n",
            "Shape:(3094, 3)\n",
            "category        \n",
            "agustinderojas      156\n",
            "avellaneda          103\n",
            "carvajal             63\n",
            "castillo             96\n",
            "cervantes           681\n",
            "cervantessalazar    186\n",
            "frayluisdeleon      195\n",
            "lazarillo            51\n",
            "lope                227\n",
            "mateoaleman         179\n",
            "mendoza              46\n",
            "montalban            51\n",
            "otalora             235\n",
            "pasamonte            80\n",
            "suarezfigueroa      210\n",
            "tirso                85\n",
            "ubeda               183\n",
            "valdes              151\n",
            "zayas               116\n",
            "dtype: int64\n",
            "\n",
            "\n",
            "Error:92.63089851325145\n",
            "Distrubución total por categorias: [807, 537, 392, 524, 3449, 901, 913, 252, 1109, 819, 219, 225, 1248, 354, 1121, 442, 869, 767, 520]\n"
          ]
        },
        {
          "data": {
            "image/png": "[encoded data removed]",
            "text/plain": [
              "<Figure size 576x576 with 1 Axes>"
            ]
          },
          "metadata": {
            "needs_background": "light",
            "tags": []
          },
          "output_type": "display_data"
        },
        {
          "data": {
            "image/png": "[encoded data removed]",
            "text/plain": [
              "<Figure size 1296x360 with 3 Axes>"
            ]
          },
          "metadata": {
            "needs_background": "light",
            "tags": []
          },
          "output_type": "display_data"
        },
        {
          "data": {
            "image/png": "[encoded data removed]",
            "text/plain": [
              "<Figure size 576x576 with 1 Axes>"
            ]
          },
          "metadata": {
            "needs_background": "light",
            "tags": []
          },
          "output_type": "display_data"
        }
      ],
      "source": [
        "# SGDC #\n",
        "\n",
        "# or a regression loss: ‘squared_loss’, ‘huber’, ‘epsilon_insensitive’, or ‘squared_epsilon_insensitive’.\n",
        "loss= 'epsilon_insensitive' \n",
        "\n",
        "#Constant that multiplies the regularization term. The higher the value, the stronger the regularization. \n",
        "#Also used to compute the learning rate when set to learning_rate is set to ‘optimal’.\n",
        "alpha= 0.0001\n",
        "#‘constant’: eta = eta0\n",
        "#‘optimal’: eta = 1.0 / (alpha * (t + t0)) where t0 is chosen by a heuristic proposed by Leon Bottou.\n",
        "#‘invscaling’: eta = eta0 / pow(t, power_t)\n",
        "# ‘adaptive’: eta = eta0, as long as the training keeps decreasing. Each time n_iter_no_change consecutive epochs \n",
        "# fail to decrease the training loss by tol or fail to increase validation score by tol if early_stopping is True, \n",
        "# the current learning rate is divided by 5.\n",
        "\n",
        "learning_rate = 'optimal'\n",
        "modeloTfidf.fit_SGDC(train_dataset,loss,alpha,learning_rate)\n",
        "modeloTfidf.eval_NB(test_dataset)\n",
        "modeloTfidf.describe()\n",
        "\n",
        "accuracy.append(modeloTfidf.accuracy)"
      ]
    },
    {
      "cell_type": "code",
      "execution_count": null,
      "metadata": {
        "colab": {
          "base_uri": "https://localhost:8080/",
          "height": 1000
        },
        "id": "92gDy1K7vIww",
        "outputId": "46f99d0b-c5f5-42cc-9563-2f0a880a6195"
      },
      "outputs": [
        {
          "name": "stdout",
          "output_type": "stream",
          "text": [
            "##### Describe #####\n",
            "Dataset path: /content/novelasOro_Zayas.txt\n",
            "\n",
            "\n",
            "### Train ###\n",
            "Shape:(9280, 3)\n",
            "category        \n",
            "agustinderojas       482\n",
            "avellaneda           343\n",
            "carvajal             258\n",
            "castillo             326\n",
            "cervantes           2045\n",
            "cervantessalazar     540\n",
            "frayluisdeleon       525\n",
            "lazarillo            151\n",
            "lope                 669\n",
            "mateoaleman          467\n",
            "mendoza              125\n",
            "montalban            134\n",
            "otalora              772\n",
            "pasamonte            205\n",
            "suarezfigueroa       699\n",
            "tirso                265\n",
            "ubeda                511\n",
            "valdes               464\n",
            "zayas                299\n",
            "dtype: int64\n",
            "\n",
            "\n",
            "### Test ###\n",
            "Shape:(3094, 3)\n",
            "category        \n",
            "agustinderojas      169\n",
            "avellaneda           91\n",
            "carvajal             71\n",
            "castillo            102\n",
            "cervantes           723\n",
            "cervantessalazar    175\n",
            "frayluisdeleon      193\n",
            "lazarillo            50\n",
            "lope                213\n",
            "mateoaleman         173\n",
            "mendoza              48\n",
            "montalban            40\n",
            "otalora             241\n",
            "pasamonte            69\n",
            "suarezfigueroa      212\n",
            "tirso                92\n",
            "ubeda               175\n",
            "valdes              152\n",
            "zayas               105\n",
            "dtype: int64\n",
            "\n",
            "\n",
            "### Validation ###\n",
            "Shape:(3094, 3)\n",
            "category        \n",
            "agustinderojas      156\n",
            "avellaneda          103\n",
            "carvajal             63\n",
            "castillo             96\n",
            "cervantes           681\n",
            "cervantessalazar    186\n",
            "frayluisdeleon      195\n",
            "lazarillo            51\n",
            "lope                227\n",
            "mateoaleman         179\n",
            "mendoza              46\n",
            "montalban            51\n",
            "otalora             235\n",
            "pasamonte            80\n",
            "suarezfigueroa      210\n",
            "tirso                85\n",
            "ubeda               183\n",
            "valdes              151\n",
            "zayas               116\n",
            "dtype: int64\n",
            "\n",
            "\n",
            "Error:55.688429217840984\n",
            "Distrubución total por categorias: [807, 537, 392, 524, 3449, 901, 913, 252, 1109, 819, 219, 225, 1248, 354, 1121, 442, 869, 767, 520]\n"
          ]
        },
        {
          "data": {
            "image/png": "[encoded data removed]",
            "text/plain": [
              "<Figure size 576x576 with 1 Axes>"
            ]
          },
          "metadata": {
            "needs_background": "light",
            "tags": []
          },
          "output_type": "display_data"
        },
        {
          "data": {
            "image/png": "[encoded data removed]",
            "text/plain": [
              "<Figure size 1296x360 with 3 Axes>"
            ]
          },
          "metadata": {
            "needs_background": "light",
            "tags": []
          },
          "output_type": "display_data"
        },
        {
          "data": {
            "image/png": "[encoded data removed]",
            "text/plain": [
              "<Figure size 576x576 with 1 Axes>"
            ]
          },
          "metadata": {
            "needs_background": "light",
            "tags": []
          },
          "output_type": "display_data"
        }
      ],
      "source": [
        "# Naive Bayes #\n",
        "\n",
        "alpha= 0.1\n",
        "modeloTfidf.fit_NB(train_dataset,alpha)\n",
        "modeloTfidf.eval_NB(test_dataset)\n",
        "modeloTfidf.describe()\n",
        "\n",
        "accuracy.append(modeloTfidf.accuracy)"
      ]
    },
    {
      "cell_type": "code",
      "execution_count": null,
      "metadata": {
        "colab": {
          "base_uri": "https://localhost:8080/",
          "height": 1000
        },
        "id": "uya8PE-ornLW",
        "outputId": "9f838190-b7f0-4bca-c17b-3e96ec7ce344"
      },
      "outputs": [
        {
          "name": "stdout",
          "output_type": "stream",
          "text": [
            "##### Describe #####\n",
            "Dataset path: /content/novelasOro_Zayas.txt\n",
            "\n",
            "\n",
            "### Train ###\n",
            "Shape:(9280, 3)\n",
            "category        \n",
            "agustinderojas       482\n",
            "avellaneda           343\n",
            "carvajal             258\n",
            "castillo             326\n",
            "cervantes           2045\n",
            "cervantessalazar     540\n",
            "frayluisdeleon       525\n",
            "lazarillo            151\n",
            "lope                 669\n",
            "mateoaleman          467\n",
            "mendoza              125\n",
            "montalban            134\n",
            "otalora              772\n",
            "pasamonte            205\n",
            "suarezfigueroa       699\n",
            "tirso                265\n",
            "ubeda                511\n",
            "valdes               464\n",
            "zayas                299\n",
            "dtype: int64\n",
            "\n",
            "\n",
            "### Test ###\n",
            "Shape:(3094, 3)\n",
            "category        \n",
            "agustinderojas      169\n",
            "avellaneda           91\n",
            "carvajal             71\n",
            "castillo            102\n",
            "cervantes           723\n",
            "cervantessalazar    175\n",
            "frayluisdeleon      193\n",
            "lazarillo            50\n",
            "lope                213\n",
            "mateoaleman         173\n",
            "mendoza              48\n",
            "montalban            40\n",
            "otalora             241\n",
            "pasamonte            69\n",
            "suarezfigueroa      212\n",
            "tirso                92\n",
            "ubeda               175\n",
            "valdes              152\n",
            "zayas               105\n",
            "dtype: int64\n",
            "\n",
            "\n",
            "### Validation ###\n",
            "Shape:(3094, 3)\n",
            "category        \n",
            "agustinderojas      156\n",
            "avellaneda          103\n",
            "carvajal             63\n",
            "castillo             96\n",
            "cervantes           681\n",
            "cervantessalazar    186\n",
            "frayluisdeleon      195\n",
            "lazarillo            51\n",
            "lope                227\n",
            "mateoaleman         179\n",
            "mendoza              46\n",
            "montalban            51\n",
            "otalora             235\n",
            "pasamonte            80\n",
            "suarezfigueroa      210\n",
            "tirso                85\n",
            "ubeda               183\n",
            "valdes              151\n",
            "zayas               116\n",
            "dtype: int64\n",
            "\n",
            "\n",
            "Error:63.768584356819645\n",
            "Distrubución total por categorias: [807, 537, 392, 524, 3449, 901, 913, 252, 1109, 819, 219, 225, 1248, 354, 1121, 442, 869, 767, 520]\n"
          ]
        },
        {
          "data": {
            "image/png": "[encoded data removed]",
            "text/plain": [
              "<Figure size 576x576 with 1 Axes>"
            ]
          },
          "metadata": {
            "needs_background": "light",
            "tags": []
          },
          "output_type": "display_data"
        },
        {
          "data": {
            "image/png": "[encoded data removed]",
            "text/plain": [
              "<Figure size 1296x360 with 3 Axes>"
            ]
          },
          "metadata": {
            "needs_background": "light",
            "tags": []
          },
          "output_type": "display_data"
        },
        {
          "data": {
            "image/png": "[encoded data removed]",
            "text/plain": [
              "<Figure size 576x576 with 1 Axes>"
            ]
          },
          "metadata": {
            "needs_background": "light",
            "tags": []
          },
          "output_type": "display_data"
        }
      ],
      "source": [
        "# KNN #\n",
        "\n",
        "modeloTfidf.fit_neighbors(modeloTfidf.dataset[0],10)\n",
        "\n",
        "modeloTfidf.describe()\n",
        "\n",
        "accuracy.append(modeloTfidf.accuracy)"
      ]
    },
    {
      "cell_type": "code",
      "execution_count": null,
      "metadata": {
        "colab": {
          "base_uri": "https://localhost:8080/",
          "height": 407
        },
        "id": "u6SvDxURyIUr",
        "outputId": "1d196aa9-2eaf-44f7-df92-e04136fcbbd6"
      },
      "outputs": [
        {
          "data": {
            "text/plain": [
              "[Text(0, 0, 'SGDC'), Text(0, 0, 'Naive-Bayes'), Text(0, 0, 'KNN')]"
            ]
          },
          "execution_count": 51,
          "metadata": {
            "tags": []
          },
          "output_type": "execute_result"
        },
        {
          "data": {
            "image/png": "[encoded data removed]",
            "text/plain": [
              "<Figure size 432x432 with 1 Axes>"
            ]
          },
          "metadata": {
            "needs_background": "light",
            "tags": []
          },
          "output_type": "display_data"
        }
      ],
      "source": [
        "#Accuracy\n",
        "fig, axes = plt.subplots(nrows=1, ncols=1,figsize=(6,6))\n",
        "\n",
        "models = [\"SGDC\", \"Naive-Bayes\", \"KNN\"]\n",
        "df = pd.DataFrame({'Models':models , 'Accuracy': accuracy})\n",
        "df.plot.bar(ax=axes, title ='Bar accuracy Comparative',color={\"#51698f\"})\n",
        "\n",
        "axes.set_xticklabels(models, rotation=0)"
      ]
    },
    {
      "cell_type": "markdown",
      "metadata": {
        "id": "Kk_ho0ziTiwv"
      },
      "source": [
        "Examples"
      ]
    },
    {
      "cell_type": "code",
      "execution_count": null,
      "metadata": {
        "colab": {
          "base_uri": "https://localhost:8080/",
          "height": 35
        },
        "id": "peB8rwkCSdyG",
        "outputId": "60449242-aa43-4337-bf8a-ced0b6850e82"
      },
      "outputs": [
        {
          "data": {
            "application/vnd.google.colaboratory.intrinsic+json": {
              "type": "string"
            },
            "text/plain": [
              "'How to be the president of the United States of America. => avellaneda'"
            ]
          },
          "execution_count": 55,
          "metadata": {
            "tags": []
          },
          "output_type": "execute_result"
        }
      ],
      "source": [
        "modeloTfidf.print_predict([\"How to be the president of the United States of America.\"])"
      ]
    },
    {
      "cell_type": "code",
      "execution_count": null,
      "metadata": {
        "colab": {
          "base_uri": "https://localhost:8080/",
          "height": 35
        },
        "id": "wCHgivoyTlpx",
        "outputId": "db573199-37b3-4a1b-9745-2ce922a58cd6"
      },
      "outputs": [
        {
          "data": {
            "application/vnd.google.colaboratory.intrinsic+json": {
              "type": "string"
            },
            "text/plain": [
              "'The match was played in the field of Manchester United. Anthony Martial scored the lonely goal of the night => otalora'"
            ]
          },
          "execution_count": 56,
          "metadata": {
            "tags": []
          },
          "output_type": "execute_result"
        }
      ],
      "source": [
        "modeloTfidf.print_predict(['The match was played in the field of Manchester United. Anthony Martial scored the lonely goal of the night'])  "
      ]
    },
    {
      "cell_type": "code",
      "execution_count": null,
      "metadata": {
        "colab": {
          "base_uri": "https://localhost:8080/",
          "height": 35
        },
        "id": "8JhRA8ZwT-9J",
        "outputId": "e13bfdf3-917a-4662-a32f-def3b99a0600"
      },
      "outputs": [
        {
          "data": {
            "application/vnd.google.colaboratory.intrinsic+json": {
              "type": "string"
            },
            "text/plain": [
              "'The TESLA actions have fluctuated in this period. They are not gonna be profitable => otalora'"
            ]
          },
          "execution_count": 57,
          "metadata": {
            "tags": []
          },
          "output_type": "execute_result"
        }
      ],
      "source": [
        "modeloTfidf.print_predict(['The TESLA actions have fluctuated in this period. They are not gonna be profitable'])"
      ]
    },
    {
      "cell_type": "code",
      "execution_count": null,
      "metadata": {
        "colab": {
          "base_uri": "https://localhost:8080/",
          "height": 35
        },
        "id": "rnNV4UgDUdaf",
        "outputId": "dd84f1f0-6d6d-4f66-bfae-ab7f6eb96034"
      },
      "outputs": [
        {
          "data": {
            "application/vnd.google.colaboratory.intrinsic+json": {
              "type": "string"
            },
            "text/plain": [
              "'The Simpsons are going to lose one character: Apu Nahasapeemapetilon => avellaneda'"
            ]
          },
          "execution_count": 58,
          "metadata": {
            "tags": []
          },
          "output_type": "execute_result"
        }
      ],
      "source": [
        "modeloTfidf.print_predict(['The Simpsons are going to lose one character: Apu Nahasapeemapetilon'])"
      ]
    },
    {
      "cell_type": "code",
      "execution_count": null,
      "metadata": {
        "colab": {
          "base_uri": "https://localhost:8080/",
          "height": 35
        },
        "id": "_NjJOFNnUqZe",
        "outputId": "ff5c90bc-2b58-4939-a69c-2bb3ffd40ea2"
      },
      "outputs": [
        {
          "data": {
            "application/vnd.google.colaboratory.intrinsic+json": {
              "type": "string"
            },
            "text/plain": [
              "'The new computer has been built based on a Raspberry pi 4 => valdes'"
            ]
          },
          "execution_count": 59,
          "metadata": {
            "tags": []
          },
          "output_type": "execute_result"
        }
      ],
      "source": [
        "modeloTfidf.print_predict(['The new computer has been built based on a Raspberry pi 4'])"
      ]
    },
    {
      "cell_type": "code",
      "execution_count": null,
      "metadata": {
        "colab": {
          "base_uri": "https://localhost:8080/",
          "height": 35
        },
        "id": "PSMNktVUU6Gm",
        "outputId": "984dd5a6-0713-495d-f703-6948b39c7d36"
      },
      "outputs": [
        {
          "data": {
            "application/vnd.google.colaboratory.intrinsic+json": {
              "type": "string"
            },
            "text/plain": [
              "'George Bush has landed a new attack on Syria => valdes'"
            ]
          },
          "execution_count": 60,
          "metadata": {
            "tags": []
          },
          "output_type": "execute_result"
        }
      ],
      "source": [
        "modeloTfidf.print_predict(['George Bush has landed a new attack on Syria'])"
      ]
    },
    {
      "cell_type": "markdown",
      "metadata": {
        "id": "_iSEQ3Fbjwh0"
      },
      "source": [
        "**Audio Predict**\n"
      ]
    },
    {
      "cell_type": "code",
      "execution_count": null,
      "metadata": {
        "id": "eFjN158pgnDJ"
      },
      "outputs": [],
      "source": [
        "    def predict_audio(sound):\n",
        "        r = sr.Recognizer()\n",
        "       \n",
        "        with sr.AudioFile(sound) as source:\n",
        "            r.adjust_for_ambient_noise(source)\n",
        "            audio = r.record(source)\n",
        "            \n",
        "            try:\n",
        "                self.print_predict([r.recognize_google(audio)])\n",
        "                \n",
        "            except Exception as e: \n",
        "                print(e)"
      ]
    },
    {
      "cell_type": "code",
      "execution_count": null,
      "metadata": {
        "colab": {
          "base_uri": "https://localhost:8080/"
        },
        "id": "n1OIGcmv2GhE",
        "outputId": "6d0b937e-8107-4345-8fb6-a29e1cd4872b"
      },
      "outputs": [
        {
          "name": "stdout",
          "output_type": "stream",
          "text": [
            "made in the Field of Manchester United Anthony martial scored the only goal of the night => otalora\n"
          ]
        }
      ],
      "source": [
        "modeloTfidf.predict_audio(audio1_path)"
      ]
    },
    {
      "cell_type": "code",
      "execution_count": null,
      "metadata": {
        "colab": {
          "base_uri": "https://localhost:8080/"
        },
        "id": "aSRBIb3O18TC",
        "outputId": "e9f5808a-c3c0-4104-e0e6-80c586abdfce"
      },
      "outputs": [
        {
          "name": "stdout",
          "output_type": "stream",
          "text": [
            "computer has been built based on the Raspberry Pi 4 => valdes\n"
          ]
        }
      ],
      "source": [
        "modeloTfidf.predict_audio(audio2_path)"
      ]
    }
  ],
  "metadata": {
    "colab": {
      "collapsed_sections": [],
      "name": "ContentAnalyzer_Tf-idf.ipynb",
      "provenance": []
    },
    "kernelspec": {
      "display_name": "Python 3",
      "name": "python3"
    }
  },
  "nbformat": 4,
  "nbformat_minor": 0
}
