{
  "nbformat": 4,
  "nbformat_minor": 0,
  "metadata": {
    "colab": {
      "name": "Copia de NewsTypePredictions.ipynb",
      "provenance": [],
      "authorship_tag": "ABX9TyMX361Q8SclFtS2oWB91yhg",
      "include_colab_link": true
    },
    "kernelspec": {
      "name": "python3",
      "display_name": "Python 3"
    }
  },
  "cells": [
    {
      "cell_type": "markdown",
      "metadata": {
        "id": "view-in-github",
        "colab_type": "text"
      },
      "source": [
        "<a href=\"https://colab.research.google.com/github/jcorralosada/ContentAnalyzer/blob/main/NewsTypePredictions.ipynb\" target=\"_parent\"><img src=\"https://colab.research.google.com/assets/colab-badge.svg\" alt=\"Open In Colab\"/></a>"
      ]
    },
    {
      "cell_type": "code",
      "metadata": {
        "colab": {
          "base_uri": "https://localhost:8080/"
        },
        "id": "EJ6Jpj12Igzh",
        "outputId": "38e73eb3-ff0c-4b3a-eee7-a8707d8689a3"
      },
      "source": [
        "from google.colab import drive\n",
        "drive.mount('/content/drive')"
      ],
      "execution_count": null,
      "outputs": [
        {
          "output_type": "stream",
          "text": [
            "Drive already mounted at /content/drive; to attempt to forcibly remount, call drive.mount(\"/content/drive\", force_remount=True).\n"
          ],
          "name": "stdout"
        }
      ]
    },
    {
      "cell_type": "code",
      "metadata": {
        "colab": {
          "base_uri": "https://localhost:8080/"
        },
        "id": "Ow01LcMHgC4p",
        "outputId": "b6920302-58a3-4527-c0d7-e2d0374516fc"
      },
      "source": [
        "import re\n",
        "import matplotlib.pyplot as plt\n",
        "import string\n",
        "from nltk.corpus import stopwords\n",
        "import nltk\n",
        "from nltk.corpus import wordnet\n",
        "from nltk.stem import WordNetLemmatizer\n",
        "from nltk.tokenize.treebank import TreebankWordDetokenizer\n",
        "from collections import Counter\n",
        "from wordcloud import WordCloud\n",
        "from nltk.corpus import stopwords\n",
        "import nltk\n",
        "from gensim.utils import simple_preprocess\n",
        "from nltk.corpus import stopwords\n",
        "import gensim\n",
        "from sklearn.model_selection import train_test_split\n",
        "import spacy\n",
        "import pickle\n",
        "import warnings\n",
        "warnings.filterwarnings('ignore')\n",
        "import seaborn as sns\n",
        "from sklearn.metrics import confusion_matrix\n",
        "import matplotlib.pyplot as plt \n",
        "import tensorflow as tf\n",
        "import keras\n",
        "import numpy as np\n",
        "import pandas as pd\n",
        "print('Done')"
      ],
      "execution_count": null,
      "outputs": [
        {
          "output_type": "stream",
          "text": [
            "Done\n"
          ],
          "name": "stdout"
        }
      ]
    },
    {
      "cell_type": "markdown",
      "metadata": {
        "id": "6JSi-NG9kbmt"
      },
      "source": [
        "# **Data importing**"
      ]
    },
    {
      "cell_type": "code",
      "metadata": {
        "id": "__rCic0QgHJx"
      },
      "source": [
        "train = pd.read_csv('/content/drive/MyDrive/CUARTO/Practicas_Externas/bbc-fulltext/dataset.csv')"
      ],
      "execution_count": null,
      "outputs": []
    },
    {
      "cell_type": "code",
      "metadata": {
        "colab": {
          "base_uri": "https://localhost:8080/"
        },
        "id": "1nYOu_2dih2i",
        "outputId": "92937276-083a-4576-9051-9c510b6344ac"
      },
      "source": [
        "#No he podido usar el texto que teniamos con las noticias todas bien puestas en una misma frase y tal porque algunas me da por categoria NaN\n",
        "train.head"
      ],
      "execution_count": null,
      "outputs": [
        {
          "output_type": "execute_result",
          "data": {
            "text/plain": [
              "<bound method NDFrame.head of                                                    news      type\n",
              "0     ['Ad sales boost Time Warner profit\\n', '\\n', ...  business\n",
              "1     ['Dollar gains on Greenspan speech\\n', '\\n', '...  business\n",
              "2     ['Yukos unit buyer faces loan claim\\n', '\\n', ...  business\n",
              "3     [\"High fuel prices hit BA's profits\\n\", '\\n', ...  business\n",
              "4     ['Pernod takeover talk lifts Domecq\\n', '\\n', ...  business\n",
              "...                                                 ...       ...\n",
              "2220  ['BT program to beat dialler scams\\n', '\\n', '...      tech\n",
              "2221  ['Spam e-mails tempt net shoppers\\n', '\\n', 'C...      tech\n",
              "2222  ['Be careful how you code\\n', '\\n', 'A new Eur...      tech\n",
              "2223  ['US cyber security chief resigns\\n', '\\n', 'T...      tech\n",
              "2224  ['Losing yourself in online gaming\\n', '\\n', '...      tech\n",
              "\n",
              "[2225 rows x 2 columns]>"
            ]
          },
          "metadata": {
            "tags": []
          },
          "execution_count": 66
        }
      ]
    },
    {
      "cell_type": "code",
      "metadata": {
        "colab": {
          "base_uri": "https://localhost:8080/",
          "height": 235
        },
        "id": "-LY1NGtckIni",
        "outputId": "16d0107c-d324-4233-a965-20eb68cfe5c8"
      },
      "source": [
        "train.groupby('type').nunique()"
      ],
      "execution_count": null,
      "outputs": [
        {
          "output_type": "execute_result",
          "data": {
            "text/html": [
              "<div>\n",
              "<style scoped>\n",
              "    .dataframe tbody tr th:only-of-type {\n",
              "        vertical-align: middle;\n",
              "    }\n",
              "\n",
              "    .dataframe tbody tr th {\n",
              "        vertical-align: top;\n",
              "    }\n",
              "\n",
              "    .dataframe thead th {\n",
              "        text-align: right;\n",
              "    }\n",
              "</style>\n",
              "<table border=\"1\" class=\"dataframe\">\n",
              "  <thead>\n",
              "    <tr style=\"text-align: right;\">\n",
              "      <th></th>\n",
              "      <th>news</th>\n",
              "    </tr>\n",
              "    <tr>\n",
              "      <th>type</th>\n",
              "      <th></th>\n",
              "    </tr>\n",
              "  </thead>\n",
              "  <tbody>\n",
              "    <tr>\n",
              "      <th>business</th>\n",
              "      <td>503</td>\n",
              "    </tr>\n",
              "    <tr>\n",
              "      <th>entertainment</th>\n",
              "      <td>369</td>\n",
              "    </tr>\n",
              "    <tr>\n",
              "      <th>politics</th>\n",
              "      <td>403</td>\n",
              "    </tr>\n",
              "    <tr>\n",
              "      <th>sport</th>\n",
              "      <td>505</td>\n",
              "    </tr>\n",
              "    <tr>\n",
              "      <th>tech</th>\n",
              "      <td>347</td>\n",
              "    </tr>\n",
              "  </tbody>\n",
              "</table>\n",
              "</div>"
            ],
            "text/plain": [
              "               news\n",
              "type               \n",
              "business        503\n",
              "entertainment   369\n",
              "politics        403\n",
              "sport           505\n",
              "tech            347"
            ]
          },
          "metadata": {
            "tags": []
          },
          "execution_count": 67
        }
      ]
    },
    {
      "cell_type": "markdown",
      "metadata": {
        "id": "UNDDp1eBkoP4"
      },
      "source": [
        "# **Data cleaning**"
      ]
    },
    {
      "cell_type": "code",
      "metadata": {
        "colab": {
          "base_uri": "https://localhost:8080/",
          "height": 204
        },
        "id": "oyEvWL8Fk2eE",
        "outputId": "38111e60-5f99-4a64-ebe3-62bfa8b05627"
      },
      "source": [
        "train.head()"
      ],
      "execution_count": null,
      "outputs": [
        {
          "output_type": "execute_result",
          "data": {
            "text/html": [
              "<div>\n",
              "<style scoped>\n",
              "    .dataframe tbody tr th:only-of-type {\n",
              "        vertical-align: middle;\n",
              "    }\n",
              "\n",
              "    .dataframe tbody tr th {\n",
              "        vertical-align: top;\n",
              "    }\n",
              "\n",
              "    .dataframe thead th {\n",
              "        text-align: right;\n",
              "    }\n",
              "</style>\n",
              "<table border=\"1\" class=\"dataframe\">\n",
              "  <thead>\n",
              "    <tr style=\"text-align: right;\">\n",
              "      <th></th>\n",
              "      <th>news</th>\n",
              "      <th>type</th>\n",
              "    </tr>\n",
              "  </thead>\n",
              "  <tbody>\n",
              "    <tr>\n",
              "      <th>0</th>\n",
              "      <td>['Ad sales boost Time Warner profit\\n', '\\n', ...</td>\n",
              "      <td>business</td>\n",
              "    </tr>\n",
              "    <tr>\n",
              "      <th>1</th>\n",
              "      <td>['Dollar gains on Greenspan speech\\n', '\\n', '...</td>\n",
              "      <td>business</td>\n",
              "    </tr>\n",
              "    <tr>\n",
              "      <th>2</th>\n",
              "      <td>['Yukos unit buyer faces loan claim\\n', '\\n', ...</td>\n",
              "      <td>business</td>\n",
              "    </tr>\n",
              "    <tr>\n",
              "      <th>3</th>\n",
              "      <td>[\"High fuel prices hit BA's profits\\n\", '\\n', ...</td>\n",
              "      <td>business</td>\n",
              "    </tr>\n",
              "    <tr>\n",
              "      <th>4</th>\n",
              "      <td>['Pernod takeover talk lifts Domecq\\n', '\\n', ...</td>\n",
              "      <td>business</td>\n",
              "    </tr>\n",
              "  </tbody>\n",
              "</table>\n",
              "</div>"
            ],
            "text/plain": [
              "                                                news      type\n",
              "0  ['Ad sales boost Time Warner profit\\n', '\\n', ...  business\n",
              "1  ['Dollar gains on Greenspan speech\\n', '\\n', '...  business\n",
              "2  ['Yukos unit buyer faces loan claim\\n', '\\n', ...  business\n",
              "3  [\"High fuel prices hit BA's profits\\n\", '\\n', ...  business\n",
              "4  ['Pernod takeover talk lifts Domecq\\n', '\\n', ...  business"
            ]
          },
          "metadata": {
            "tags": []
          },
          "execution_count": 68
        }
      ]
    },
    {
      "cell_type": "code",
      "metadata": {
        "id": "3sdDXLLySPtc"
      },
      "source": [
        "#A very basic text cleaning Python function\n",
        "#(this is a very simple way, you can implement the one that best works for your purpose — (Gensim or NLTK))\n",
        "def depureData (data):  \n",
        "\n",
        "    #Removing URLs with a regular expression\n",
        "    url_pattern = re.compile(r'https?://\\S+|www\\.\\S+')\n",
        "    data = url_pattern.sub(r'', data)\n",
        "\n",
        "    # Remove Emails\n",
        "    data = re.sub('\\S*@\\S*\\s?', '', data)\n",
        "\n",
        "    # Remove new line characters\n",
        "    data = re.sub('\\s+', ' ', data)\n",
        "\n",
        "    # Remove distracting single quotes\n",
        "    data = re.sub(\"\\'\", \"\", data)\n",
        "    data = re.sub(\"\\\"\", \"\", data)\n",
        "\n",
        "    #Removing elements to convert the dataset into a readable text.\n",
        "    data = re.sub(\"Â\", \"\", data)      #Remove this character that appears in money values\n",
        "    data = re.sub(r'\\\\n', \"\", data)   #Remove \\n\n",
        "    data = re.sub(r'\\[', \"\", data)    #Remove [ which was at the beginning of the row\n",
        "    data = re.sub(r'\\]', \"\", data)    #Remove ] which was at the end of the row\n",
        "    data = re.sub(r', , ', \". \", data)  #Remove the , that were left because to the \\n\n",
        "    data = re.sub(r'\\.\\.', \". \", data)\n",
        "    data = re.sub(r'\\\\s ', \" \", data)    #Remove \\s that appears\n",
        "\n",
        "    return data"
      ],
      "execution_count": null,
      "outputs": []
    },
    {
      "cell_type": "code",
      "metadata": {
        "colab": {
          "base_uri": "https://localhost:8080/"
        },
        "id": "E_EbEBYM3GCQ",
        "outputId": "fa24b204-56e6-485a-e782-46921a755d55"
      },
      "source": [
        "temp = []\n",
        "#Splitting pd.Series to list\n",
        "data_to_list = train['news'].values.tolist()\n",
        "for i in range(len(data_to_list)):\n",
        "    temp.append(depureData(data_to_list[i]))\n",
        "list(temp[:10]) #Debug"
      ],
      "execution_count": null,
      "outputs": [
        {
          "output_type": "execute_result",
          "data": {
            "text/plain": [
              "['Ad sales boost Time Warner profit. Quarterly profits at US media giant TimeWarner jumped 76% to $1.13bn (£600m) for the three months to December, from $639m year-earlier.  The firm, which is now one of the biggest investors in Google, benefited from sales of high-speed internet connections and higher advert sales. TimeWarner said fourth quarter sales rose 2% to $11.1bn from $10.9bn. Its profits were buoyed by one-off gains which offset a profit dip at Warner Bros, and less users for AOL.  Time Warner said on Friday that it now owns 8% of search-engine Google. But its own internet business, AOL, had has mixed fortunes. It lost 464,000 subscribers in the fourth quarter profits were lower than in the preceding three quarters. However, the company said AOLs underlying profit before exceptional items rose 8% on the back of stronger internet advertising revenues. It hopes to increase subscribers by offering the online service free to TimeWarner internet customers and will try to sign up AOLs existing customers for high-speed broadband. TimeWarner also has to restate 2000 and 2003 results following a probe by the US Securities Exchange Commission (SEC), which is close to concluding.  Time Warner fourth quarter profits were slightly better than analysts\\\\ expectations. But its film division saw profits slump 27% to $284m, helped by box-office flops Alexander and Catwoman, a sharp contrast to year-earlier, when the third and final film in the Lord of the Rings trilogy boosted results. For the full-year, TimeWarner posted a profit of $3.36bn, up 27% from its 2003 performance, while revenues grew 6.4% to $42.09bn. Our financial performance was strong, meeting or exceeding all of our full-year objectives and greatly enhancing our flexibility, chairman and chief executive Richard Parsons said. For 2005, TimeWarner is projecting operating earnings growth of around 5%, and also expects higher revenue and wider profit margins.  TimeWarner is to restate its accounts as part of efforts to resolve an inquiry into AOL by US market regulators. It has already offered to pay $300m to settle charges, in a deal that is under review by the SEC. The company said it was unable to estimate the amount it needed to set aside for legal reserves, which it previously set at $500m. It intends to adjust the way it accounts for a deal with German music publisher Bertelsmanns purchase of a stake in AOL Europe, which it had reported as advertising revenue. It will now book the sale of its stake in AOL Europe as a loss on the value of that stake.',\n",
              " 'Dollar gains on Greenspan speech. The dollar has hit its highest level against the euro in almost three months after the Federal Reserve head said the US trade deficit is set to stabilise.  And Alan Greenspan highlighted the US government willingness to curb spending and rising household savings as factors which may help to reduce it. In late trading in New York, the dollar reached $1.2871 against the euro, from $1.2974 on Thursday. Market concerns about the deficit has hit the greenback in recent months. On Friday, Federal Reserve chairman Mr Greenspan speech in London ahead of the meeting of G7 finance ministers sent the dollar higher after it had earlier tumbled on the back of worse-than-expected US jobs data. I think the chairman taking a much more sanguine view on the current account deficit than he taken for some time, said Robert Sinche, head of currency strategy at Bank of America in New York. He taking a longer-term view, laying out a set of conditions under which the current account deficit can improve this year and next.  Worries about the deficit concerns about China do, however, remain. China currency remains pegged to the dollar and the US currency sharp falls in recent months have therefore made Chinese export prices highly competitive. But calls for a shift in Beijing policy have fallen on deaf ears, despite recent comments in a major Chinese newspaper that the time is ripe for a loosening of the peg. The G7 meeting is thought unlikely to produce any meaningful movement in Chinese policy. In the meantime, the US Federal Reserve decision on 2 February to boost interest rates by a quarter of a point - the sixth such move in as many months - has opened up a differential with European rates. The half-point window, some believe, could be enough to keep US assets looking more attractive, and could help prop up the dollar. The recent falls have partly been the result of big budget deficits, as well as the US yawning current account gap, both of which need to be funded by the buying of US bonds and assets by foreign firms and governments. The White House will announce its budget on Monday, and many commentators believe the deficit will remain at close to half a trillion dollars.',\n",
              " 'Yukos unit buyer faces loan claim. The owners of embattled Russian oil giant Yukos are to ask the buyer of its former production unit to pay back a $900m (£479m) loan.  State-owned Rosneft bought the Yugansk unit for $9.3bn in a sale forced by Russia to part settle a $27.5bn tax claim against Yukos. Yukos\\\\ owner Menatep Group says it will ask Rosneft to repay a loan that Yugansk had secured on its assets. Rosneft already faces a similar $540m repayment demand from foreign banks. Legal experts said Rosneft purchase of Yugansk would include such obligations. The pledged assets are with Rosneft, so it will have to pay real money to the creditors to avoid seizure of Yugansk assets, said Moscow-based US lawyer Jamie Firestone, who is not connected to the case. Menatep Group managing director Tim Osborne told the Reuters news agency: If they default, we will fight them where the rule of law exists under the international arbitration clauses of the credit.  Rosneft officials were unavailable for comment. But the company has said it intends to take action against Menatep to recover some of the tax claims and debts owed by Yugansk. Yukos had filed for bankruptcy protection in a US court in an attempt to prevent the forced sale of its main production arm. The sale went ahead in December and Yugansk was sold to a little-known shell company which in turn was bought by Rosneft. Yukos claims its downfall was punishment for the political ambitions of its founder Mikhail Khodorkovsky and has vowed to sue any participant in the sale.',\n",
              " 'High fuel prices hit BAs profits. British Airways has blamed high fuel prices for a 40% drop in profits.  Reporting its results for the three months to 31 December 2004, the airline made a pre-tax profit of £75m ($141m) compared with £125m a year earlier. Rod Eddington, BA chief executive, said the results were respectable in a third quarter when fuel costs rose by £106m or 47.3%. BA profits were still better than market expectation of £59m, and it expects a rise in full-year revenues.  To help offset the increased price of aviation fuel, BA last year introduced a fuel surcharge for passengers.  In October, it increased this from £6 to £10 one-way for all long-haul flights, while the short-haul surcharge was raised from £2.50 to £4 a leg. Yet aviation analyst Mike Powell of Dresdner Kleinwort Wasserstein says BA estimated annual surcharge revenues - £160m - will still be way short of its additional fuel costs - a predicted extra £250m. Turnover for the quarter was up 4.3% to £1.97bn, further benefiting from a rise in cargo revenue. Looking ahead to its full year results to March 2005, BA warned that yields - average revenues per passenger - were expected to decline as it continues to lower prices in the face of competition from low-cost carriers. However, it said sales would be better than previously forecast. For the year to March 2005, the total revenue outlook is slightly better than previous guidance with a 3% to 3.5% improvement anticipated, BA chairman Martin Broughton said. BA had previously forecast a 2% to 3% rise in full-year revenue.  It also reported on Friday that passenger numbers rose 8.1% in January. Aviation analyst Nick Van den Brul of BNP Paribas described BA latest quarterly results as pretty modest. It is quite good on the revenue side and it shows the impact of fuel surcharges and a positive cargo development, however, operating margins down and cost impact of fuel are very strong, he said. Since the 11 September 2001 attacks in the United States, BA has cut 13,000 jobs as part of a major cost-cutting drive. Our focus remains on reducing controllable costs and debt whilst continuing to invest in our products, Mr Eddington said. For example, we have taken delivery of six Airbus A321 aircraft and next month we will start further improvements to our Club World flat beds. BA shares closed up four pence at 274.5 pence.',\n",
              " 'Pernod takeover talk lifts Domecq. Shares in UK drinks and food firm Allied Domecq have risen on speculation that it could be the target of a takeover by Frances Pernod Ricard.  Reports in the Wall Street Journal and the Financial Times suggested that the French spirits firm is considering a bid, but has yet to contact its target. Allied Domecq shares in London rose 4% by 1200 GMT, while Pernod shares in Paris slipped 1.2%. Pernod said it was seeking acquisitions but refused to comment on specifics.  Pernods last major purchase was a third of US giant Seagram in 2000, the move which propelled it into the global top three of drinks firms. The other two-thirds of Seagram was bought by market leader Diageo. In terms of market value, Pernod - at 7.5bn euros ($9.7bn) - is about 9% smaller than Allied Domecq, which has a capitalisation of £5.7bn ($10.7bn; 8.2bn euros). Last year Pernod tried to buy Glenmorangie, one of Scotlands premier whisky firms, but lost out to luxury goods firm LVMH. Pernod is home to brands including Chivas Regal Scotch whisky, Havana Club rum and Jacobs Creek wine. Allied Domecqs big names include Malibu rum, Courvoisier brandy, Stolichnaya vodka and Ballantines whisky - as well as snack food chains such as Dunkin Donuts and Baskin-Robbins ice cream. The WSJ said that the two were ripe for consolidation, having each dealt with problematic parts of their portfolio. Pernod has reduced the debt it took on to fund the Seagram purchase to just 1.8bn euros, while Allied has improved the performance of its fast-food chains.',\n",
              " 'Japan narrowly escapes recession. Japans economy teetered on the brink of a technical recession in the three months to September, figures show.  Revised figures indicated growth of just 0.1% - and a similar-sized contraction in the previous quarter. On an annual basis, the data suggests annual growth of just 0.2%, suggesting a much more hesitant recovery than had previously been thought. A common technical definition of a recession is two successive quarters of negative growth.  The government was keen to play down the worrying implications of the data. I maintain the view that Japan economy remains in a minor adjustment phase in an upward climb, and we will monitor developments carefully, said economy minister Heizo Takenaka. But in the face of the strengthening yen making exports less competitive and indications of weakening economic conditions ahead, observers were less sanguine. It painting a picture of a recovery. . much patchier than previously thought, said Paul Sheard, economist at Lehman Brothers in Tokyo. Improvements in the job market apparently have yet to feed through to domestic demand, with private consumption up just 0.2% in the third quarter.',\n",
              " 'Jobs growth still slow in the US. The US created fewer jobs than expected in January, but a fall in jobseekers pushed the unemployment rate to its lowest level in three years.  According to Labor Department figures, US firms added only 146,000 jobs in January. The gain in non-farm payrolls was below market expectations of 190,000 new jobs. Nevertheless it was enough to push down the unemployment rate to 5.2%, its lowest level since September 2001. The job gains mean that President Bush can celebrate - albeit by a very fine margin - a net growth in jobs in the US economy in his first term in office. He presided over a net fall in jobs up to last Novembers Presidential election - the first President to do so since Herbert Hoover. As a result, job creation became a key issue in last years election. However, when adding December and Januarys figures, the administrations first term jobs record ended in positive territory.  The Labor Department also said it had revised down the jobs gains in December 2004, from 157,000 to 133,000.  Analysts said the growth in new jobs was not as strong as could be expected given the favourable economic conditions. It suggests that employment is continuing to expand at a moderate pace, said Rick Egelton, deputy chief economist at BMO Financial Group. We are not getting the boost to employment that we would have got given the low value of the dollar and the still relatively low interest rate environment. The economy is producing a moderate but not a satisfying amount of job growth, said Ken Mayland, president of ClearView Economics. That means there are a limited number of new opportunities for workers.',\n",
              " 'India calls for fair trade rules. India, which attends the G7 meeting of seven leading industrialised nations on Friday, is unlikely to be cowed by its newcomer status.  In London on Thursday ahead of the meeting, Indias finance minister, lashed out at the restrictive trade policies of the G7 nations. He objected to subsidies on agriculture that make it hard for developing nations like India to compete. He also called for reform of the United Nations, the World Bank and the IMF.  Palaniappan Chidambaram, India finance minister, argued that these organisations need to take into account the changing world order, given India and China integration into the global economy. He said the issue is not globalisation but the terms of engagement in globalisation. Mr Chidambaram is attending the G7 meeting as part of the G20 group of nations, which account for two thirds of the world population. At a conference on developing enterprise hosted by UK finance minister Gordon Brown on Friday, he said that he was in favour of floating exchange rates because they help countries cope with economic shocks. A flexible exchange rate is one more channel for absorbing both positive and negative shocks, he told the conference. India, along with China, Brazil, South Africa and Russia, has been invited to take part in the G7 meeting taking place in London on Friday and Saturday. China is expected to face renewed pressure to abandon its fixed exchange rate, which G7 nations, in particular the US, have blamed for a surge in cheap Chinese exports. Some countries have tried to use fixed exchange rates. I do not wish to make any judgements, Mr Chidambaram said. Separately, the IMF warned on Thursday that India budget deficit was too large and would hamper the country economic growth, which it forecast to be around 6.5% in the year to March 2005. In the year to March 2004, the Indian economy grew by 8.5%.',\n",
              " 'Ethiopias crop production up 24%. Ethiopia produced 14.27 million tonnes of crops in 2004, 24% higher than in 2003 and 21% more than the average of the past five years, a report says.  In 2003, crop production totalled 11.49 million tonnes, the joint report from the Food and Agriculture Organisation and the World Food Programme said. Good rains, increased use of fertilizers and improved seeds contributed to the rise in production. Nevertheless, 2.2 million Ethiopians will still need emergency assistance.  The report calculated emergency food requirements for 2005 to be 387,500 tonnes. On top of that, 89,000 tonnes of fortified blended food and vegetable oil for targeted supplementary food distributions for a survival programme for children under five and pregnant and lactating women will be needed.  In eastern and southern Ethiopia, a prolonged drought has killed crops and drained wells. Last year, a total of 965,000 tonnes of food assistance was needed to help seven million Ethiopians. The Food and Agriculture Organisation (FAO) recommend that the food assistance is bought locally. Local purchase of cereals for food assistance programmes is recommended as far as possible, so as to assist domestic markets and farmers, said Henri Josserand, chief of FAO Global Information and Early Warning System. Agriculture is the main economic activity in Ethiopia, representing 45% of gross domestic product. About 80% of Ethiopians depend directly or indirectly on agriculture.',\n",
              " 'Court rejects $280bn tobacco case. A US government claim accusing the countrys biggest tobacco companies of covering up the effects of smoking has been thrown out by an appeal court.  The demand for $280bn (£155bn) - filed by the Clinton administration in 1999 - was rejected in a 2-1 decision. The court in Washington found that the case could not be brought under federal anti-racketeering laws. Among the accused were Altria Group, RJ Reynolds Tobacco, Lorillard Tobacco, Liggett Group and Brown and Williamson. In its case, the government claimed tobacco firms manipulated nicotine levels to increase addiction, targeted teenagers with multi-billion dollar advertising campaigns, lied about the dangers of smoking and ignored research to the contrary.  Prosecutors wanted the cigarette firms to surrender $280bn in profits accumulated over the past 50 years and impose tougher rules on marketing their products. But the Court of Appeals for the District of Columbia ruled that the US government could not sue the firms under legislation drawn up to counteract Mafia infiltration of business. The tobacco companies deny that they illegally conspired to promote smoking and defraud the public. They also say they have already met many of the governments demands in a landmark $206bn settlement reached with 46 states in 1998. Shares of tobacco companies closed higher after the ruling, with Altria rising 5% and Reynolds showing gains of 4.5%.']"
            ]
          },
          "metadata": {
            "tags": []
          },
          "execution_count": 70
        }
      ]
    },
    {
      "cell_type": "code",
      "metadata": {
        "colab": {
          "base_uri": "https://localhost:8080/"
        },
        "id": "Xp_-lchDKYU8",
        "outputId": "a3294d13-6cc9-4c7e-aa85-6531d423205f"
      },
      "source": [
        "#Now a very simple way to remove repeating words from your dataset, following the idea that the shortest and longest ones are usually useless:\n",
        "def sentToWords(sentences):\n",
        "    for sentence in sentences:\n",
        "        yield(gensim.utils.simple_preprocess(str(sentence), deacc=True))  # deacc=True removes punctuations\n",
        "        \n",
        "\n",
        "data_words = list(sentToWords(temp))\n",
        "\n",
        "print(data_words[:10])"
      ],
      "execution_count": null,
      "outputs": [
        {
          "output_type": "stream",
          "text": [
            "[['ad', 'sales', 'boost', 'time', 'warner', 'profit', 'quarterly', 'profits', 'at', 'us', 'media', 'giant', 'timewarner', 'jumped', 'to', 'bn', 'for', 'the', 'three', 'months', 'to', 'december', 'from', 'year', 'earlier', 'the', 'firm', 'which', 'is', 'now', 'one', 'of', 'the', 'biggest', 'investors', 'in', 'google', 'benefited', 'from', 'sales', 'of', 'high', 'speed', 'internet', 'connections', 'and', 'higher', 'advert', 'sales', 'timewarner', 'said', 'fourth', 'quarter', 'sales', 'rose', 'to', 'bn', 'from', 'bn', 'its', 'profits', 'were', 'buoyed', 'by', 'one', 'off', 'gains', 'which', 'offset', 'profit', 'dip', 'at', 'warner', 'bros', 'and', 'less', 'users', 'for', 'aol', 'time', 'warner', 'said', 'on', 'friday', 'that', 'it', 'now', 'owns', 'of', 'search', 'engine', 'google', 'but', 'its', 'own', 'internet', 'business', 'aol', 'had', 'has', 'mixed', 'fortunes', 'it', 'lost', 'subscribers', 'in', 'the', 'fourth', 'quarter', 'profits', 'were', 'lower', 'than', 'in', 'the', 'preceding', 'three', 'quarters', 'however', 'the', 'company', 'said', 'aols', 'underlying', 'profit', 'before', 'exceptional', 'items', 'rose', 'on', 'the', 'back', 'of', 'stronger', 'internet', 'advertising', 'revenues', 'it', 'hopes', 'to', 'increase', 'subscribers', 'by', 'offering', 'the', 'online', 'service', 'free', 'to', 'timewarner', 'internet', 'customers', 'and', 'will', 'try', 'to', 'sign', 'up', 'aols', 'existing', 'customers', 'for', 'high', 'speed', 'broadband', 'timewarner', 'also', 'has', 'to', 'restate', 'and', 'results', 'following', 'probe', 'by', 'the', 'us', 'securities', 'exchange', 'commission', 'sec', 'which', 'is', 'close', 'to', 'concluding', 'time', 'warner', 'fourth', 'quarter', 'profits', 'were', 'slightly', 'better', 'than', 'analysts', 'expectations', 'but', 'its', 'film', 'division', 'saw', 'profits', 'slump', 'to', 'helped', 'by', 'box', 'office', 'flops', 'alexander', 'and', 'catwoman', 'sharp', 'contrast', 'to', 'year', 'earlier', 'when', 'the', 'third', 'and', 'final', 'film', 'in', 'the', 'lord', 'of', 'the', 'rings', 'trilogy', 'boosted', 'results', 'for', 'the', 'full', 'year', 'timewarner', 'posted', 'profit', 'of', 'bn', 'up', 'from', 'its', 'performance', 'while', 'revenues', 'grew', 'to', 'bn', 'our', 'financial', 'performance', 'was', 'strong', 'meeting', 'or', 'exceeding', 'all', 'of', 'our', 'full', 'year', 'objectives', 'and', 'greatly', 'enhancing', 'our', 'flexibility', 'chairman', 'and', 'chief', 'executive', 'richard', 'parsons', 'said', 'for', 'timewarner', 'is', 'projecting', 'operating', 'earnings', 'growth', 'of', 'around', 'and', 'also', 'expects', 'higher', 'revenue', 'and', 'wider', 'profit', 'margins', 'timewarner', 'is', 'to', 'restate', 'its', 'accounts', 'as', 'part', 'of', 'efforts', 'to', 'resolve', 'an', 'inquiry', 'into', 'aol', 'by', 'us', 'market', 'regulators', 'it', 'has', 'already', 'offered', 'to', 'pay', 'to', 'settle', 'charges', 'in', 'deal', 'that', 'is', 'under', 'review', 'by', 'the', 'sec', 'the', 'company', 'said', 'it', 'was', 'unable', 'to', 'estimate', 'the', 'amount', 'it', 'needed', 'to', 'set', 'aside', 'for', 'legal', 'reserves', 'which', 'it', 'previously', 'set', 'at', 'it', 'intends', 'to', 'adjust', 'the', 'way', 'it', 'accounts', 'for', 'deal', 'with', 'german', 'music', 'publisher', 'bertelsmanns', 'purchase', 'of', 'stake', 'in', 'aol', 'europe', 'which', 'it', 'had', 'reported', 'as', 'advertising', 'revenue', 'it', 'will', 'now', 'book', 'the', 'sale', 'of', 'its', 'stake', 'in', 'aol', 'europe', 'as', 'loss', 'on', 'the', 'value', 'of', 'that', 'stake'], ['dollar', 'gains', 'on', 'greenspan', 'speech', 'the', 'dollar', 'has', 'hit', 'its', 'highest', 'level', 'against', 'the', 'euro', 'in', 'almost', 'three', 'months', 'after', 'the', 'federal', 'reserve', 'head', 'said', 'the', 'us', 'trade', 'deficit', 'is', 'set', 'to', 'stabilise', 'and', 'alan', 'greenspan', 'highlighted', 'the', 'us', 'government', 'willingness', 'to', 'curb', 'spending', 'and', 'rising', 'household', 'savings', 'as', 'factors', 'which', 'may', 'help', 'to', 'reduce', 'it', 'in', 'late', 'trading', 'in', 'new', 'york', 'the', 'dollar', 'reached', 'against', 'the', 'euro', 'from', 'on', 'thursday', 'market', 'concerns', 'about', 'the', 'deficit', 'has', 'hit', 'the', 'greenback', 'in', 'recent', 'months', 'on', 'friday', 'federal', 'reserve', 'chairman', 'mr', 'greenspan', 'speech', 'in', 'london', 'ahead', 'of', 'the', 'meeting', 'of', 'finance', 'ministers', 'sent', 'the', 'dollar', 'higher', 'after', 'it', 'had', 'earlier', 'tumbled', 'on', 'the', 'back', 'of', 'worse', 'than', 'expected', 'us', 'jobs', 'data', 'think', 'the', 'chairman', 'taking', 'much', 'more', 'sanguine', 'view', 'on', 'the', 'current', 'account', 'deficit', 'than', 'he', 'taken', 'for', 'some', 'time', 'said', 'robert', 'sinche', 'head', 'of', 'currency', 'strategy', 'at', 'bank', 'of', 'america', 'in', 'new', 'york', 'he', 'taking', 'longer', 'term', 'view', 'laying', 'out', 'set', 'of', 'conditions', 'under', 'which', 'the', 'current', 'account', 'deficit', 'can', 'improve', 'this', 'year', 'and', 'next', 'worries', 'about', 'the', 'deficit', 'concerns', 'about', 'china', 'do', 'however', 'remain', 'china', 'currency', 'remains', 'pegged', 'to', 'the', 'dollar', 'and', 'the', 'us', 'currency', 'sharp', 'falls', 'in', 'recent', 'months', 'have', 'therefore', 'made', 'chinese', 'export', 'prices', 'highly', 'competitive', 'but', 'calls', 'for', 'shift', 'in', 'beijing', 'policy', 'have', 'fallen', 'on', 'deaf', 'ears', 'despite', 'recent', 'comments', 'in', 'major', 'chinese', 'newspaper', 'that', 'the', 'time', 'is', 'ripe', 'for', 'loosening', 'of', 'the', 'peg', 'the', 'meeting', 'is', 'thought', 'unlikely', 'to', 'produce', 'any', 'meaningful', 'movement', 'in', 'chinese', 'policy', 'in', 'the', 'meantime', 'the', 'us', 'federal', 'reserve', 'decision', 'on', 'february', 'to', 'boost', 'interest', 'rates', 'by', 'quarter', 'of', 'point', 'the', 'sixth', 'such', 'move', 'in', 'as', 'many', 'months', 'has', 'opened', 'up', 'differential', 'with', 'european', 'rates', 'the', 'half', 'point', 'window', 'some', 'believe', 'could', 'be', 'enough', 'to', 'keep', 'us', 'assets', 'looking', 'more', 'attractive', 'and', 'could', 'help', 'prop', 'up', 'the', 'dollar', 'the', 'recent', 'falls', 'have', 'partly', 'been', 'the', 'result', 'of', 'big', 'budget', 'deficits', 'as', 'well', 'as', 'the', 'us', 'yawning', 'current', 'account', 'gap', 'both', 'of', 'which', 'need', 'to', 'be', 'funded', 'by', 'the', 'buying', 'of', 'us', 'bonds', 'and', 'assets', 'by', 'foreign', 'firms', 'and', 'governments', 'the', 'white', 'house', 'will', 'announce', 'its', 'budget', 'on', 'monday', 'and', 'many', 'commentators', 'believe', 'the', 'deficit', 'will', 'remain', 'at', 'close', 'to', 'half', 'trillion', 'dollars'], ['yukos', 'unit', 'buyer', 'faces', 'loan', 'claim', 'the', 'owners', 'of', 'embattled', 'russian', 'oil', 'giant', 'yukos', 'are', 'to', 'ask', 'the', 'buyer', 'of', 'its', 'former', 'production', 'unit', 'to', 'pay', 'back', 'loan', 'state', 'owned', 'rosneft', 'bought', 'the', 'yugansk', 'unit', 'for', 'bn', 'in', 'sale', 'forced', 'by', 'russia', 'to', 'part', 'settle', 'bn', 'tax', 'claim', 'against', 'yukos', 'yukos', 'owner', 'menatep', 'group', 'says', 'it', 'will', 'ask', 'rosneft', 'to', 'repay', 'loan', 'that', 'yugansk', 'had', 'secured', 'on', 'its', 'assets', 'rosneft', 'already', 'faces', 'similar', 'repayment', 'demand', 'from', 'foreign', 'banks', 'legal', 'experts', 'said', 'rosneft', 'purchase', 'of', 'yugansk', 'would', 'include', 'such', 'obligations', 'the', 'pledged', 'assets', 'are', 'with', 'rosneft', 'so', 'it', 'will', 'have', 'to', 'pay', 'real', 'money', 'to', 'the', 'creditors', 'to', 'avoid', 'seizure', 'of', 'yugansk', 'assets', 'said', 'moscow', 'based', 'us', 'lawyer', 'jamie', 'firestone', 'who', 'is', 'not', 'connected', 'to', 'the', 'case', 'menatep', 'group', 'managing', 'director', 'tim', 'osborne', 'told', 'the', 'reuters', 'news', 'agency', 'if', 'they', 'default', 'we', 'will', 'fight', 'them', 'where', 'the', 'rule', 'of', 'law', 'exists', 'under', 'the', 'international', 'arbitration', 'clauses', 'of', 'the', 'credit', 'rosneft', 'officials', 'were', 'unavailable', 'for', 'comment', 'but', 'the', 'company', 'has', 'said', 'it', 'intends', 'to', 'take', 'action', 'against', 'menatep', 'to', 'recover', 'some', 'of', 'the', 'tax', 'claims', 'and', 'debts', 'owed', 'by', 'yugansk', 'yukos', 'had', 'filed', 'for', 'bankruptcy', 'protection', 'in', 'us', 'court', 'in', 'an', 'attempt', 'to', 'prevent', 'the', 'forced', 'sale', 'of', 'its', 'main', 'production', 'arm', 'the', 'sale', 'went', 'ahead', 'in', 'december', 'and', 'yugansk', 'was', 'sold', 'to', 'little', 'known', 'shell', 'company', 'which', 'in', 'turn', 'was', 'bought', 'by', 'rosneft', 'yukos', 'claims', 'its', 'downfall', 'was', 'punishment', 'for', 'the', 'political', 'ambitions', 'of', 'its', 'founder', 'mikhail', 'khodorkovsky', 'and', 'has', 'vowed', 'to', 'sue', 'any', 'participant', 'in', 'the', 'sale'], ['high', 'fuel', 'prices', 'hit', 'bas', 'profits', 'british', 'airways', 'has', 'blamed', 'high', 'fuel', 'prices', 'for', 'drop', 'in', 'profits', 'reporting', 'its', 'results', 'for', 'the', 'three', 'months', 'to', 'december', 'the', 'airline', 'made', 'pre', 'tax', 'profit', 'of', 'compared', 'with', 'year', 'earlier', 'rod', 'eddington', 'ba', 'chief', 'executive', 'said', 'the', 'results', 'were', 'respectable', 'in', 'third', 'quarter', 'when', 'fuel', 'costs', 'rose', 'by', 'or', 'ba', 'profits', 'were', 'still', 'better', 'than', 'market', 'expectation', 'of', 'and', 'it', 'expects', 'rise', 'in', 'full', 'year', 'revenues', 'to', 'help', 'offset', 'the', 'increased', 'price', 'of', 'aviation', 'fuel', 'ba', 'last', 'year', 'introduced', 'fuel', 'surcharge', 'for', 'passengers', 'in', 'october', 'it', 'increased', 'this', 'from', 'to', 'one', 'way', 'for', 'all', 'long', 'haul', 'flights', 'while', 'the', 'short', 'haul', 'surcharge', 'was', 'raised', 'from', 'to', 'leg', 'yet', 'aviation', 'analyst', 'mike', 'powell', 'of', 'dresdner', 'kleinwort', 'wasserstein', 'says', 'ba', 'estimated', 'annual', 'surcharge', 'revenues', 'will', 'still', 'be', 'way', 'short', 'of', 'its', 'additional', 'fuel', 'costs', 'predicted', 'extra', 'turnover', 'for', 'the', 'quarter', 'was', 'up', 'to', 'bn', 'further', 'benefiting', 'from', 'rise', 'in', 'cargo', 'revenue', 'looking', 'ahead', 'to', 'its', 'full', 'year', 'results', 'to', 'march', 'ba', 'warned', 'that', 'yields', 'average', 'revenues', 'per', 'passenger', 'were', 'expected', 'to', 'decline', 'as', 'it', 'continues', 'to', 'lower', 'prices', 'in', 'the', 'face', 'of', 'competition', 'from', 'low', 'cost', 'carriers', 'however', 'it', 'said', 'sales', 'would', 'be', 'better', 'than', 'previously', 'forecast', 'for', 'the', 'year', 'to', 'march', 'the', 'total', 'revenue', 'outlook', 'is', 'slightly', 'better', 'than', 'previous', 'guidance', 'with', 'to', 'improvement', 'anticipated', 'ba', 'chairman', 'martin', 'broughton', 'said', 'ba', 'had', 'previously', 'forecast', 'to', 'rise', 'in', 'full', 'year', 'revenue', 'it', 'also', 'reported', 'on', 'friday', 'that', 'passenger', 'numbers', 'rose', 'in', 'january', 'aviation', 'analyst', 'nick', 'van', 'den', 'brul', 'of', 'bnp', 'paribas', 'described', 'ba', 'latest', 'quarterly', 'results', 'as', 'pretty', 'modest', 'it', 'is', 'quite', 'good', 'on', 'the', 'revenue', 'side', 'and', 'it', 'shows', 'the', 'impact', 'of', 'fuel', 'surcharges', 'and', 'positive', 'cargo', 'development', 'however', 'operating', 'margins', 'down', 'and', 'cost', 'impact', 'of', 'fuel', 'are', 'very', 'strong', 'he', 'said', 'since', 'the', 'september', 'attacks', 'in', 'the', 'united', 'states', 'ba', 'has', 'cut', 'jobs', 'as', 'part', 'of', 'major', 'cost', 'cutting', 'drive', 'our', 'focus', 'remains', 'on', 'reducing', 'controllable', 'costs', 'and', 'debt', 'whilst', 'continuing', 'to', 'invest', 'in', 'our', 'products', 'mr', 'eddington', 'said', 'for', 'example', 'we', 'have', 'taken', 'delivery', 'of', 'six', 'airbus', 'aircraft', 'and', 'next', 'month', 'we', 'will', 'start', 'further', 'improvements', 'to', 'our', 'club', 'world', 'flat', 'beds', 'ba', 'shares', 'closed', 'up', 'four', 'pence', 'at', 'pence'], ['pernod', 'takeover', 'talk', 'lifts', 'domecq', 'shares', 'in', 'uk', 'drinks', 'and', 'food', 'firm', 'allied', 'domecq', 'have', 'risen', 'on', 'speculation', 'that', 'it', 'could', 'be', 'the', 'target', 'of', 'takeover', 'by', 'frances', 'pernod', 'ricard', 'reports', 'in', 'the', 'wall', 'street', 'journal', 'and', 'the', 'financial', 'times', 'suggested', 'that', 'the', 'french', 'spirits', 'firm', 'is', 'considering', 'bid', 'but', 'has', 'yet', 'to', 'contact', 'its', 'target', 'allied', 'domecq', 'shares', 'in', 'london', 'rose', 'by', 'gmt', 'while', 'pernod', 'shares', 'in', 'paris', 'slipped', 'pernod', 'said', 'it', 'was', 'seeking', 'acquisitions', 'but', 'refused', 'to', 'comment', 'on', 'specifics', 'pernods', 'last', 'major', 'purchase', 'was', 'third', 'of', 'us', 'giant', 'seagram', 'in', 'the', 'move', 'which', 'propelled', 'it', 'into', 'the', 'global', 'top', 'three', 'of', 'drinks', 'firms', 'the', 'other', 'two', 'thirds', 'of', 'seagram', 'was', 'bought', 'by', 'market', 'leader', 'diageo', 'in', 'terms', 'of', 'market', 'value', 'pernod', 'at', 'bn', 'euros', 'bn', 'is', 'about', 'smaller', 'than', 'allied', 'domecq', 'which', 'has', 'capitalisation', 'of', 'bn', 'bn', 'bn', 'euros', 'last', 'year', 'pernod', 'tried', 'to', 'buy', 'glenmorangie', 'one', 'of', 'scotlands', 'premier', 'whisky', 'firms', 'but', 'lost', 'out', 'to', 'luxury', 'goods', 'firm', 'lvmh', 'pernod', 'is', 'home', 'to', 'brands', 'including', 'chivas', 'regal', 'scotch', 'whisky', 'havana', 'club', 'rum', 'and', 'jacobs', 'creek', 'wine', 'allied', 'domecqs', 'big', 'names', 'include', 'malibu', 'rum', 'courvoisier', 'brandy', 'stolichnaya', 'vodka', 'and', 'ballantines', 'whisky', 'as', 'well', 'as', 'snack', 'food', 'chains', 'such', 'as', 'dunkin', 'donuts', 'and', 'baskin', 'robbins', 'ice', 'cream', 'the', 'wsj', 'said', 'that', 'the', 'two', 'were', 'ripe', 'for', 'consolidation', 'having', 'each', 'dealt', 'with', 'problematic', 'parts', 'of', 'their', 'portfolio', 'pernod', 'has', 'reduced', 'the', 'debt', 'it', 'took', 'on', 'to', 'fund', 'the', 'seagram', 'purchase', 'to', 'just', 'bn', 'euros', 'while', 'allied', 'has', 'improved', 'the', 'performance', 'of', 'its', 'fast', 'food', 'chains'], ['japan', 'narrowly', 'escapes', 'recession', 'japans', 'economy', 'teetered', 'on', 'the', 'brink', 'of', 'technical', 'recession', 'in', 'the', 'three', 'months', 'to', 'september', 'figures', 'show', 'revised', 'figures', 'indicated', 'growth', 'of', 'just', 'and', 'similar', 'sized', 'contraction', 'in', 'the', 'previous', 'quarter', 'on', 'an', 'annual', 'basis', 'the', 'data', 'suggests', 'annual', 'growth', 'of', 'just', 'suggesting', 'much', 'more', 'hesitant', 'recovery', 'than', 'had', 'previously', 'been', 'thought', 'common', 'technical', 'definition', 'of', 'recession', 'is', 'two', 'successive', 'quarters', 'of', 'negative', 'growth', 'the', 'government', 'was', 'keen', 'to', 'play', 'down', 'the', 'worrying', 'implications', 'of', 'the', 'data', 'maintain', 'the', 'view', 'that', 'japan', 'economy', 'remains', 'in', 'minor', 'adjustment', 'phase', 'in', 'an', 'upward', 'climb', 'and', 'we', 'will', 'monitor', 'developments', 'carefully', 'said', 'economy', 'minister', 'heizo', 'takenaka', 'but', 'in', 'the', 'face', 'of', 'the', 'strengthening', 'yen', 'making', 'exports', 'less', 'competitive', 'and', 'indications', 'of', 'weakening', 'economic', 'conditions', 'ahead', 'observers', 'were', 'less', 'sanguine', 'it', 'painting', 'picture', 'of', 'recovery', 'much', 'patchier', 'than', 'previously', 'thought', 'said', 'paul', 'sheard', 'economist', 'at', 'lehman', 'brothers', 'in', 'tokyo', 'improvements', 'in', 'the', 'job', 'market', 'apparently', 'have', 'yet', 'to', 'feed', 'through', 'to', 'domestic', 'demand', 'with', 'private', 'consumption', 'up', 'just', 'in', 'the', 'third', 'quarter'], ['jobs', 'growth', 'still', 'slow', 'in', 'the', 'us', 'the', 'us', 'created', 'fewer', 'jobs', 'than', 'expected', 'in', 'january', 'but', 'fall', 'in', 'jobseekers', 'pushed', 'the', 'unemployment', 'rate', 'to', 'its', 'lowest', 'level', 'in', 'three', 'years', 'according', 'to', 'labor', 'department', 'figures', 'us', 'firms', 'added', 'only', 'jobs', 'in', 'january', 'the', 'gain', 'in', 'non', 'farm', 'payrolls', 'was', 'below', 'market', 'expectations', 'of', 'new', 'jobs', 'nevertheless', 'it', 'was', 'enough', 'to', 'push', 'down', 'the', 'unemployment', 'rate', 'to', 'its', 'lowest', 'level', 'since', 'september', 'the', 'job', 'gains', 'mean', 'that', 'president', 'bush', 'can', 'celebrate', 'albeit', 'by', 'very', 'fine', 'margin', 'net', 'growth', 'in', 'jobs', 'in', 'the', 'us', 'economy', 'in', 'his', 'first', 'term', 'in', 'office', 'he', 'presided', 'over', 'net', 'fall', 'in', 'jobs', 'up', 'to', 'last', 'novembers', 'presidential', 'election', 'the', 'first', 'president', 'to', 'do', 'so', 'since', 'herbert', 'hoover', 'as', 'result', 'job', 'creation', 'became', 'key', 'issue', 'in', 'last', 'years', 'election', 'however', 'when', 'adding', 'december', 'and', 'januarys', 'figures', 'the', 'administrations', 'first', 'term', 'jobs', 'record', 'ended', 'in', 'positive', 'territory', 'the', 'labor', 'department', 'also', 'said', 'it', 'had', 'revised', 'down', 'the', 'jobs', 'gains', 'in', 'december', 'from', 'to', 'analysts', 'said', 'the', 'growth', 'in', 'new', 'jobs', 'was', 'not', 'as', 'strong', 'as', 'could', 'be', 'expected', 'given', 'the', 'favourable', 'economic', 'conditions', 'it', 'suggests', 'that', 'employment', 'is', 'continuing', 'to', 'expand', 'at', 'moderate', 'pace', 'said', 'rick', 'egelton', 'deputy', 'chief', 'economist', 'at', 'bmo', 'financial', 'group', 'we', 'are', 'not', 'getting', 'the', 'boost', 'to', 'employment', 'that', 'we', 'would', 'have', 'got', 'given', 'the', 'low', 'value', 'of', 'the', 'dollar', 'and', 'the', 'still', 'relatively', 'low', 'interest', 'rate', 'environment', 'the', 'economy', 'is', 'producing', 'moderate', 'but', 'not', 'satisfying', 'amount', 'of', 'job', 'growth', 'said', 'ken', 'mayland', 'president', 'of', 'clearview', 'economics', 'that', 'means', 'there', 'are', 'limited', 'number', 'of', 'new', 'opportunities', 'for', 'workers'], ['india', 'calls', 'for', 'fair', 'trade', 'rules', 'india', 'which', 'attends', 'the', 'meeting', 'of', 'seven', 'leading', 'industrialised', 'nations', 'on', 'friday', 'is', 'unlikely', 'to', 'be', 'cowed', 'by', 'its', 'newcomer', 'status', 'in', 'london', 'on', 'thursday', 'ahead', 'of', 'the', 'meeting', 'indias', 'finance', 'minister', 'lashed', 'out', 'at', 'the', 'restrictive', 'trade', 'policies', 'of', 'the', 'nations', 'he', 'objected', 'to', 'subsidies', 'on', 'agriculture', 'that', 'make', 'it', 'hard', 'for', 'developing', 'nations', 'like', 'india', 'to', 'compete', 'he', 'also', 'called', 'for', 'reform', 'of', 'the', 'united', 'nations', 'the', 'world', 'bank', 'and', 'the', 'imf', 'palaniappan', 'chidambaram', 'india', 'finance', 'minister', 'argued', 'that', 'these', 'organisations', 'need', 'to', 'take', 'into', 'account', 'the', 'changing', 'world', 'order', 'given', 'india', 'and', 'china', 'integration', 'into', 'the', 'global', 'economy', 'he', 'said', 'the', 'issue', 'is', 'not', 'globalisation', 'but', 'the', 'terms', 'of', 'engagement', 'in', 'globalisation', 'mr', 'chidambaram', 'is', 'attending', 'the', 'meeting', 'as', 'part', 'of', 'the', 'group', 'of', 'nations', 'which', 'account', 'for', 'two', 'thirds', 'of', 'the', 'world', 'population', 'at', 'conference', 'on', 'developing', 'enterprise', 'hosted', 'by', 'uk', 'finance', 'minister', 'gordon', 'brown', 'on', 'friday', 'he', 'said', 'that', 'he', 'was', 'in', 'favour', 'of', 'floating', 'exchange', 'rates', 'because', 'they', 'help', 'countries', 'cope', 'with', 'economic', 'shocks', 'flexible', 'exchange', 'rate', 'is', 'one', 'more', 'channel', 'for', 'absorbing', 'both', 'positive', 'and', 'negative', 'shocks', 'he', 'told', 'the', 'conference', 'india', 'along', 'with', 'china', 'brazil', 'south', 'africa', 'and', 'russia', 'has', 'been', 'invited', 'to', 'take', 'part', 'in', 'the', 'meeting', 'taking', 'place', 'in', 'london', 'on', 'friday', 'and', 'saturday', 'china', 'is', 'expected', 'to', 'face', 'renewed', 'pressure', 'to', 'abandon', 'its', 'fixed', 'exchange', 'rate', 'which', 'nations', 'in', 'particular', 'the', 'us', 'have', 'blamed', 'for', 'surge', 'in', 'cheap', 'chinese', 'exports', 'some', 'countries', 'have', 'tried', 'to', 'use', 'fixed', 'exchange', 'rates', 'do', 'not', 'wish', 'to', 'make', 'any', 'judgements', 'mr', 'chidambaram', 'said', 'separately', 'the', 'imf', 'warned', 'on', 'thursday', 'that', 'india', 'budget', 'deficit', 'was', 'too', 'large', 'and', 'would', 'hamper', 'the', 'country', 'economic', 'growth', 'which', 'it', 'forecast', 'to', 'be', 'around', 'in', 'the', 'year', 'to', 'march', 'in', 'the', 'year', 'to', 'march', 'the', 'indian', 'economy', 'grew', 'by'], ['ethiopias', 'crop', 'production', 'up', 'ethiopia', 'produced', 'million', 'tonnes', 'of', 'crops', 'in', 'higher', 'than', 'in', 'and', 'more', 'than', 'the', 'average', 'of', 'the', 'past', 'five', 'years', 'report', 'says', 'in', 'crop', 'production', 'totalled', 'million', 'tonnes', 'the', 'joint', 'report', 'from', 'the', 'food', 'and', 'agriculture', 'organisation', 'and', 'the', 'world', 'food', 'programme', 'said', 'good', 'rains', 'increased', 'use', 'of', 'fertilizers', 'and', 'improved', 'seeds', 'contributed', 'to', 'the', 'rise', 'in', 'production', 'nevertheless', 'million', 'ethiopians', 'will', 'still', 'need', 'emergency', 'assistance', 'the', 'report', 'calculated', 'emergency', 'food', 'requirements', 'for', 'to', 'be', 'tonnes', 'on', 'top', 'of', 'that', 'tonnes', 'of', 'fortified', 'blended', 'food', 'and', 'vegetable', 'oil', 'for', 'targeted', 'supplementary', 'food', 'distributions', 'for', 'survival', 'programme', 'for', 'children', 'under', 'five', 'and', 'pregnant', 'and', 'lactating', 'women', 'will', 'be', 'needed', 'in', 'eastern', 'and', 'southern', 'ethiopia', 'prolonged', 'drought', 'has', 'killed', 'crops', 'and', 'drained', 'wells', 'last', 'year', 'total', 'of', 'tonnes', 'of', 'food', 'assistance', 'was', 'needed', 'to', 'help', 'seven', 'million', 'ethiopians', 'the', 'food', 'and', 'agriculture', 'organisation', 'fao', 'recommend', 'that', 'the', 'food', 'assistance', 'is', 'bought', 'locally', 'local', 'purchase', 'of', 'cereals', 'for', 'food', 'assistance', 'programmes', 'is', 'recommended', 'as', 'far', 'as', 'possible', 'so', 'as', 'to', 'assist', 'domestic', 'markets', 'and', 'farmers', 'said', 'henri', 'josserand', 'chief', 'of', 'fao', 'global', 'information', 'and', 'early', 'warning', 'system', 'agriculture', 'is', 'the', 'main', 'economic', 'activity', 'in', 'ethiopia', 'representing', 'of', 'gross', 'domestic', 'product', 'about', 'of', 'ethiopians', 'depend', 'directly', 'or', 'indirectly', 'on', 'agriculture'], ['court', 'rejects', 'bn', 'tobacco', 'case', 'us', 'government', 'claim', 'accusing', 'the', 'countrys', 'biggest', 'tobacco', 'companies', 'of', 'covering', 'up', 'the', 'effects', 'of', 'smoking', 'has', 'been', 'thrown', 'out', 'by', 'an', 'appeal', 'court', 'the', 'demand', 'for', 'bn', 'bn', 'filed', 'by', 'the', 'clinton', 'administration', 'in', 'was', 'rejected', 'in', 'decision', 'the', 'court', 'in', 'washington', 'found', 'that', 'the', 'case', 'could', 'not', 'be', 'brought', 'under', 'federal', 'anti', 'racketeering', 'laws', 'among', 'the', 'accused', 'were', 'altria', 'group', 'rj', 'reynolds', 'tobacco', 'lorillard', 'tobacco', 'liggett', 'group', 'and', 'brown', 'and', 'williamson', 'in', 'its', 'case', 'the', 'government', 'claimed', 'tobacco', 'firms', 'manipulated', 'nicotine', 'levels', 'to', 'increase', 'addiction', 'targeted', 'teenagers', 'with', 'multi', 'billion', 'dollar', 'advertising', 'campaigns', 'lied', 'about', 'the', 'dangers', 'of', 'smoking', 'and', 'ignored', 'research', 'to', 'the', 'contrary', 'prosecutors', 'wanted', 'the', 'cigarette', 'firms', 'to', 'surrender', 'bn', 'in', 'profits', 'accumulated', 'over', 'the', 'past', 'years', 'and', 'impose', 'tougher', 'rules', 'on', 'marketing', 'their', 'products', 'but', 'the', 'court', 'of', 'appeals', 'for', 'the', 'district', 'of', 'columbia', 'ruled', 'that', 'the', 'us', 'government', 'could', 'not', 'sue', 'the', 'firms', 'under', 'legislation', 'drawn', 'up', 'to', 'counteract', 'mafia', 'infiltration', 'of', 'business', 'the', 'tobacco', 'companies', 'deny', 'that', 'they', 'illegally', 'conspired', 'to', 'promote', 'smoking', 'and', 'defraud', 'the', 'public', 'they', 'also', 'say', 'they', 'have', 'already', 'met', 'many', 'of', 'the', 'governments', 'demands', 'in', 'landmark', 'bn', 'settlement', 'reached', 'with', 'states', 'in', 'shares', 'of', 'tobacco', 'companies', 'closed', 'higher', 'after', 'the', 'ruling', 'with', 'altria', 'rising', 'and', 'reynolds', 'showing', 'gains', 'of']]\n"
          ],
          "name": "stdout"
        }
      ]
    },
    {
      "cell_type": "code",
      "metadata": {
        "id": "dFEFeua6LVgl"
      },
      "source": [
        "#A function to detokenize all sentences (this because I’ll use word embeddings and not this old-fashioned tokenizing method):\n",
        "def detokenize(text):\n",
        "    return TreebankWordDetokenizer().detokenize(text)"
      ],
      "execution_count": null,
      "outputs": []
    },
    {
      "cell_type": "code",
      "metadata": {
        "colab": {
          "base_uri": "https://localhost:8080/"
        },
        "id": "Fl_M0G-xNgaR",
        "outputId": "fb51af25-66bf-4b28-b9fb-eaaec025c078"
      },
      "source": [
        "data = []\n",
        "for i in range(len(data_words)):\n",
        "    data.append(detokenize(data_words[i]))\n",
        "print(data[:5])"
      ],
      "execution_count": null,
      "outputs": [
        {
          "output_type": "stream",
          "text": [
            "['ad sales boost time warner profit quarterly profits at us media giant timewarner jumped to bn for the three months to december from year earlier the firm which is now one of the biggest investors in google benefited from sales of high speed internet connections and higher advert sales timewarner said fourth quarter sales rose to bn from bn its profits were buoyed by one off gains which offset profit dip at warner bros and less users for aol time warner said on friday that it now owns of search engine google but its own internet business aol had has mixed fortunes it lost subscribers in the fourth quarter profits were lower than in the preceding three quarters however the company said aols underlying profit before exceptional items rose on the back of stronger internet advertising revenues it hopes to increase subscribers by offering the online service free to timewarner internet customers and will try to sign up aols existing customers for high speed broadband timewarner also has to restate and results following probe by the us securities exchange commission sec which is close to concluding time warner fourth quarter profits were slightly better than analysts expectations but its film division saw profits slump to helped by box office flops alexander and catwoman sharp contrast to year earlier when the third and final film in the lord of the rings trilogy boosted results for the full year timewarner posted profit of bn up from its performance while revenues grew to bn our financial performance was strong meeting or exceeding all of our full year objectives and greatly enhancing our flexibility chairman and chief executive richard parsons said for timewarner is projecting operating earnings growth of around and also expects higher revenue and wider profit margins timewarner is to restate its accounts as part of efforts to resolve an inquiry into aol by us market regulators it has already offered to pay to settle charges in deal that is under review by the sec the company said it was unable to estimate the amount it needed to set aside for legal reserves which it previously set at it intends to adjust the way it accounts for deal with german music publisher bertelsmanns purchase of stake in aol europe which it had reported as advertising revenue it will now book the sale of its stake in aol europe as loss on the value of that stake', 'dollar gains on greenspan speech the dollar has hit its highest level against the euro in almost three months after the federal reserve head said the us trade deficit is set to stabilise and alan greenspan highlighted the us government willingness to curb spending and rising household savings as factors which may help to reduce it in late trading in new york the dollar reached against the euro from on thursday market concerns about the deficit has hit the greenback in recent months on friday federal reserve chairman mr greenspan speech in london ahead of the meeting of finance ministers sent the dollar higher after it had earlier tumbled on the back of worse than expected us jobs data think the chairman taking much more sanguine view on the current account deficit than he taken for some time said robert sinche head of currency strategy at bank of america in new york he taking longer term view laying out set of conditions under which the current account deficit can improve this year and next worries about the deficit concerns about china do however remain china currency remains pegged to the dollar and the us currency sharp falls in recent months have therefore made chinese export prices highly competitive but calls for shift in beijing policy have fallen on deaf ears despite recent comments in major chinese newspaper that the time is ripe for loosening of the peg the meeting is thought unlikely to produce any meaningful movement in chinese policy in the meantime the us federal reserve decision on february to boost interest rates by quarter of point the sixth such move in as many months has opened up differential with european rates the half point window some believe could be enough to keep us assets looking more attractive and could help prop up the dollar the recent falls have partly been the result of big budget deficits as well as the us yawning current account gap both of which need to be funded by the buying of us bonds and assets by foreign firms and governments the white house will announce its budget on monday and many commentators believe the deficit will remain at close to half trillion dollars', 'yukos unit buyer faces loan claim the owners of embattled russian oil giant yukos are to ask the buyer of its former production unit to pay back loan state owned rosneft bought the yugansk unit for bn in sale forced by russia to part settle bn tax claim against yukos yukos owner menatep group says it will ask rosneft to repay loan that yugansk had secured on its assets rosneft already faces similar repayment demand from foreign banks legal experts said rosneft purchase of yugansk would include such obligations the pledged assets are with rosneft so it will have to pay real money to the creditors to avoid seizure of yugansk assets said moscow based us lawyer jamie firestone who is not connected to the case menatep group managing director tim osborne told the reuters news agency if they default we will fight them where the rule of law exists under the international arbitration clauses of the credit rosneft officials were unavailable for comment but the company has said it intends to take action against menatep to recover some of the tax claims and debts owed by yugansk yukos had filed for bankruptcy protection in us court in an attempt to prevent the forced sale of its main production arm the sale went ahead in december and yugansk was sold to little known shell company which in turn was bought by rosneft yukos claims its downfall was punishment for the political ambitions of its founder mikhail khodorkovsky and has vowed to sue any participant in the sale', 'high fuel prices hit bas profits british airways has blamed high fuel prices for drop in profits reporting its results for the three months to december the airline made pre tax profit of compared with year earlier rod eddington ba chief executive said the results were respectable in third quarter when fuel costs rose by or ba profits were still better than market expectation of and it expects rise in full year revenues to help offset the increased price of aviation fuel ba last year introduced fuel surcharge for passengers in october it increased this from to one way for all long haul flights while the short haul surcharge was raised from to leg yet aviation analyst mike powell of dresdner kleinwort wasserstein says ba estimated annual surcharge revenues will still be way short of its additional fuel costs predicted extra turnover for the quarter was up to bn further benefiting from rise in cargo revenue looking ahead to its full year results to march ba warned that yields average revenues per passenger were expected to decline as it continues to lower prices in the face of competition from low cost carriers however it said sales would be better than previously forecast for the year to march the total revenue outlook is slightly better than previous guidance with to improvement anticipated ba chairman martin broughton said ba had previously forecast to rise in full year revenue it also reported on friday that passenger numbers rose in january aviation analyst nick van den brul of bnp paribas described ba latest quarterly results as pretty modest it is quite good on the revenue side and it shows the impact of fuel surcharges and positive cargo development however operating margins down and cost impact of fuel are very strong he said since the september attacks in the united states ba has cut jobs as part of major cost cutting drive our focus remains on reducing controllable costs and debt whilst continuing to invest in our products mr eddington said for example we have taken delivery of six airbus aircraft and next month we will start further improvements to our club world flat beds ba shares closed up four pence at pence', 'pernod takeover talk lifts domecq shares in uk drinks and food firm allied domecq have risen on speculation that it could be the target of takeover by frances pernod ricard reports in the wall street journal and the financial times suggested that the french spirits firm is considering bid but has yet to contact its target allied domecq shares in london rose by gmt while pernod shares in paris slipped pernod said it was seeking acquisitions but refused to comment on specifics pernods last major purchase was third of us giant seagram in the move which propelled it into the global top three of drinks firms the other two thirds of seagram was bought by market leader diageo in terms of market value pernod at bn euros bn is about smaller than allied domecq which has capitalisation of bn bn bn euros last year pernod tried to buy glenmorangie one of scotlands premier whisky firms but lost out to luxury goods firm lvmh pernod is home to brands including chivas regal scotch whisky havana club rum and jacobs creek wine allied domecqs big names include malibu rum courvoisier brandy stolichnaya vodka and ballantines whisky as well as snack food chains such as dunkin donuts and baskin robbins ice cream the wsj said that the two were ripe for consolidation having each dealt with problematic parts of their portfolio pernod has reduced the debt it took on to fund the seagram purchase to just bn euros while allied has improved the performance of its fast food chains']\n"
          ],
          "name": "stdout"
        }
      ]
    },
    {
      "cell_type": "code",
      "metadata": {
        "id": "ga68hb_ON6_w"
      },
      "source": [
        "data = np.array(data)"
      ],
      "execution_count": null,
      "outputs": []
    },
    {
      "cell_type": "markdown",
      "metadata": {
        "id": "Fy-6weXSPg00"
      },
      "source": [
        "# **Label encoding**"
      ]
    },
    {
      "cell_type": "code",
      "metadata": {
        "colab": {
          "base_uri": "https://localhost:8080/"
        },
        "id": "OaXtQe43QfyM",
        "outputId": "1ead328d-4446-4d97-a864-6af11189ba6a"
      },
      "source": [
        "train['type'].unique()"
      ],
      "execution_count": null,
      "outputs": [
        {
          "output_type": "execute_result",
          "data": {
            "text/plain": [
              "array(['business', 'entertainment', 'politics', 'sport', 'tech'],\n",
              "      dtype=object)"
            ]
          },
          "metadata": {
            "tags": []
          },
          "execution_count": 75
        }
      ]
    },
    {
      "cell_type": "code",
      "metadata": {
        "id": "Au_Yw9vRPj1y"
      },
      "source": [
        "labels = np.array(train['type'])\n",
        "y = []\n",
        "for i in range(len(labels)):\n",
        "    if labels[i] == 'business':\n",
        "        y.append(0)\n",
        "    if labels[i] == 'entertainment':\n",
        "        y.append(1)\n",
        "    if labels[i] == 'politics':\n",
        "        y.append(2)\n",
        "    if labels[i] == 'sport':\n",
        "        y.append(3)\n",
        "    if labels[i] == 'tech':\n",
        "        y.append(4)\n",
        "y = np.array(y)\n",
        "labels = tf.keras.utils.to_categorical(y, 5, dtype=\"float32\")   #.to_categorical --> Converts a class vector (integers) to binary class matrix.\n",
        "del y"
      ],
      "execution_count": null,
      "outputs": []
    },
    {
      "cell_type": "markdown",
      "metadata": {
        "id": "ihGahyC_VySO"
      },
      "source": [
        "# **Data sequencing and splitting**"
      ]
    },
    {
      "cell_type": "code",
      "metadata": {
        "colab": {
          "base_uri": "https://localhost:8080/"
        },
        "id": "ogwLF-tMV246",
        "outputId": "b660991e-2662-470c-cebe-bce985cb43db"
      },
      "source": [
        "from keras.models import Sequential\n",
        "from keras import layers\n",
        "from keras.optimizers import RMSprop,Adam\n",
        "from keras.preprocessing.text import Tokenizer\n",
        "from keras.preprocessing.sequence import pad_sequences\n",
        "from keras import regularizers\n",
        "from keras import backend as K\n",
        "from keras.callbacks import ModelCheckpoint\n",
        "max_words = len(tokenizer.word_index) + 1\n",
        "#max_words = 27000\n",
        "max_len = 150\n",
        "\n",
        "tokenizer = Tokenizer()\n",
        "tokenizer.fit_on_texts(data)\n",
        "sequences = tokenizer.texts_to_sequences(data)\n",
        "news = pad_sequences(sequences)\n",
        "print(news)"
      ],
      "execution_count": null,
      "outputs": [
        {
          "output_type": "stream",
          "text": [
            "[[    0     0     0 ...     3     8  1219]\n",
            " [    0     0     0 ...   185  1982  2161]\n",
            " [    0     0     0 ...     5     1   430]\n",
            " ...\n",
            " [    0     0     0 ...   438   134   220]\n",
            " [    0     0     0 ... 14968     5  2675]\n",
            " [    0     0     0 ...     1   347 28529]]\n"
          ],
          "name": "stdout"
        }
      ]
    },
    {
      "cell_type": "code",
      "metadata": {
        "colab": {
          "base_uri": "https://localhost:8080/"
        },
        "id": "QhMwEBUycv9G",
        "outputId": "4083e3fb-74ae-496c-b69c-185fa00ed2dd"
      },
      "source": [
        "print(labels)"
      ],
      "execution_count": null,
      "outputs": [
        {
          "output_type": "stream",
          "text": [
            "[[1. 0. 0. 0. 0.]\n",
            " [1. 0. 0. 0. 0.]\n",
            " [1. 0. 0. 0. 0.]\n",
            " ...\n",
            " [0. 0. 0. 0. 1.]\n",
            " [0. 0. 0. 0. 1.]\n",
            " [0. 0. 0. 0. 1.]]\n"
          ],
          "name": "stdout"
        }
      ]
    },
    {
      "cell_type": "code",
      "metadata": {
        "colab": {
          "base_uri": "https://localhost:8080/"
        },
        "id": "A--UH3zUcylV",
        "outputId": "93a72c5c-2be5-4090-e912-95330351c8cf"
      },
      "source": [
        "#Splitting the data\n",
        "X_train, X_test, y_train, y_test = train_test_split(news, labels, random_state=0)\n",
        "print (len(X_train),len(X_test),len(y_train),len(y_test))"
      ],
      "execution_count": null,
      "outputs": [
        {
          "output_type": "stream",
          "text": [
            "1668 557 1668 557\n"
          ],
          "name": "stdout"
        }
      ]
    },
    {
      "cell_type": "markdown",
      "metadata": {
        "id": "JcBLss5tmq5c"
      },
      "source": [
        "# **Model building**"
      ]
    },
    {
      "cell_type": "markdown",
      "metadata": {
        "id": "P-U0Xm9qtLcr"
      },
      "source": [
        "## SimpleRNN model"
      ]
    },
    {
      "cell_type": "code",
      "metadata": {
        "id": "H3GarIUzm4lM"
      },
      "source": [
        "model0 = Sequential()\n",
        "model0.add(layers.Embedding(max_words, 15))\n",
        "model0.add(layers.SimpleRNN(15))\n",
        "model0.add(layers.Dense(5,activation='softmax'))\n",
        "\n",
        "\n",
        "model0.compile(optimizer='rmsprop',loss='categorical_crossentropy', metrics=['accuracy'])\n",
        "#Implementing model checkpoins to save the best metric and do not lose it on training.\n",
        "checkpoint0 = ModelCheckpoint(\"best_model0.hdf5\", monitor='val_accuracy', verbose=1,save_best_only=True, mode='auto', period=1,save_weights_only=False)\n",
        "history = model0.fit(X_train, y_train, epochs=70,validation_data=(X_test, y_test),callbacks=[checkpoint0])"
      ],
      "execution_count": null,
      "outputs": []
    },
    {
      "cell_type": "markdown",
      "metadata": {
        "id": "M6P8x4mFzyWG"
      },
      "source": [
        "## Single LSTM layer model"
      ]
    },
    {
      "cell_type": "code",
      "metadata": {
        "id": "iwb_5Jhrz2mJ"
      },
      "source": [
        "model1 = Sequential()\n",
        "model1.add(layers.Embedding(max_words, 20))\n",
        "model1.add(layers.LSTM(15,dropout=0.5))\n",
        "model1.add(layers.Dense(5,activation='softmax'))\n",
        "\n",
        "\n",
        "model1.compile(optimizer='rmsprop',loss='categorical_crossentropy', metrics=['accuracy'])\n",
        "#Implementing model checkpoins to save the best metric and do not lose it on training.\n",
        "checkpoint1 = ModelCheckpoint(\"best_model1.hdf5\", monitor='val_accuracy', verbose=1,save_best_only=True, mode='auto', period=1,save_weights_only=False)\n",
        "history = model1.fit(X_train, y_train, epochs=70,validation_data=(X_test, y_test),callbacks=[checkpoint1])"
      ],
      "execution_count": null,
      "outputs": []
    },
    {
      "cell_type": "markdown",
      "metadata": {
        "id": "obYHF31LPUKz"
      },
      "source": [
        "## Bidirectional LTSM model"
      ]
    },
    {
      "cell_type": "code",
      "metadata": {
        "id": "H_LXG-6EPZiz",
        "colab": {
          "base_uri": "https://localhost:8080/"
        },
        "outputId": "bb3f5ee1-1469-4de0-edd9-42d5be84bc5d"
      },
      "source": [
        "model2 = Sequential()\n",
        "model2.add(layers.Embedding(max_words, 40, input_length=max_len))\n",
        "model2.add(layers.Bidirectional(layers.LSTM(20,dropout=0.6)))\n",
        "model2.add(layers.Dense(5,activation='softmax'))\n",
        "model2.compile(optimizer='rmsprop',loss='categorical_crossentropy', metrics=['accuracy'])\n",
        "#Implementing model checkpoins to save the best metric and do not lose it on training.\n",
        "checkpoint2 = ModelCheckpoint(\"best_model2.hdf5\", monitor='val_accuracy', verbose=1,save_best_only=True, mode='auto', period=1,save_weights_only=False)\n",
        "history = model2.fit(X_train, y_train, epochs=70,validation_data=(X_test, y_test),callbacks=[checkpoint2])"
      ],
      "execution_count": null,
      "outputs": [
        {
          "output_type": "stream",
          "text": [
            "WARNING:tensorflow:`period` argument is deprecated. Please use `save_freq` to specify the frequency in number of batches seen.\n",
            "Epoch 1/70\n",
            "WARNING:tensorflow:Model was constructed with shape (None, 150) for input Tensor(\"embedding_8_input:0\", shape=(None, 150), dtype=float32), but it was called on an input with incompatible shape (None, 4278).\n",
            "WARNING:tensorflow:Model was constructed with shape (None, 150) for input Tensor(\"embedding_8_input:0\", shape=(None, 150), dtype=float32), but it was called on an input with incompatible shape (None, 4278).\n",
            "53/53 [==============================] - ETA: 0s - loss: 1.6031 - accuracy: 0.2482WARNING:tensorflow:Model was constructed with shape (None, 150) for input Tensor(\"embedding_8_input:0\", shape=(None, 150), dtype=float32), but it was called on an input with incompatible shape (None, 4278).\n",
            "\n",
            "Epoch 00001: val_accuracy improved from -inf to 0.26032, saving model to best_model2.hdf5\n",
            "53/53 [==============================] - 255s 5s/step - loss: 1.6031 - accuracy: 0.2482 - val_loss: 1.5846 - val_accuracy: 0.2603\n",
            "Epoch 2/70\n",
            "53/53 [==============================] - ETA: 0s - loss: 1.4826 - accuracy: 0.3705\n",
            "Epoch 00002: val_accuracy improved from 0.26032 to 0.43986, saving model to best_model2.hdf5\n",
            "53/53 [==============================] - 256s 5s/step - loss: 1.4826 - accuracy: 0.3705 - val_loss: 1.4064 - val_accuracy: 0.4399\n",
            "Epoch 3/70\n",
            "53/53 [==============================] - ETA: 0s - loss: 1.3507 - accuracy: 0.4233\n",
            "Epoch 00003: val_accuracy improved from 0.43986 to 0.46140, saving model to best_model2.hdf5\n",
            "53/53 [==============================] - 256s 5s/step - loss: 1.3507 - accuracy: 0.4233 - val_loss: 1.2936 - val_accuracy: 0.4614\n",
            "Epoch 4/70\n",
            "53/53 [==============================] - ETA: 0s - loss: 1.2530 - accuracy: 0.4442\n",
            "Epoch 00004: val_accuracy did not improve from 0.46140\n",
            "53/53 [==============================] - 257s 5s/step - loss: 1.2530 - accuracy: 0.4442 - val_loss: 1.3212 - val_accuracy: 0.4596\n",
            "Epoch 5/70\n",
            "53/53 [==============================] - ETA: 0s - loss: 1.1939 - accuracy: 0.4448\n",
            "Epoch 00005: val_accuracy did not improve from 0.46140\n",
            "53/53 [==============================] - 257s 5s/step - loss: 1.1939 - accuracy: 0.4448 - val_loss: 1.3001 - val_accuracy: 0.4237\n",
            "Epoch 6/70\n",
            "53/53 [==============================] - ETA: 0s - loss: 1.1360 - accuracy: 0.4640\n",
            "Epoch 00006: val_accuracy improved from 0.46140 to 0.49731, saving model to best_model2.hdf5\n",
            "53/53 [==============================] - 256s 5s/step - loss: 1.1360 - accuracy: 0.4640 - val_loss: 1.1404 - val_accuracy: 0.4973\n",
            "Epoch 7/70\n",
            "53/53 [==============================] - ETA: 0s - loss: 1.0627 - accuracy: 0.5570\n",
            "Epoch 00007: val_accuracy improved from 0.49731 to 0.51885, saving model to best_model2.hdf5\n",
            "53/53 [==============================] - 256s 5s/step - loss: 1.0627 - accuracy: 0.5570 - val_loss: 1.0633 - val_accuracy: 0.5189\n",
            "Epoch 8/70\n",
            "53/53 [==============================] - ETA: 0s - loss: 0.9370 - accuracy: 0.6457\n",
            "Epoch 00008: val_accuracy improved from 0.51885 to 0.61400, saving model to best_model2.hdf5\n",
            "53/53 [==============================] - 256s 5s/step - loss: 0.9370 - accuracy: 0.6457 - val_loss: 0.9279 - val_accuracy: 0.6140\n",
            "Epoch 9/70\n",
            "53/53 [==============================] - ETA: 0s - loss: 0.7779 - accuracy: 0.7386\n",
            "Epoch 00009: val_accuracy improved from 0.61400 to 0.63375, saving model to best_model2.hdf5\n",
            "53/53 [==============================] - 256s 5s/step - loss: 0.7779 - accuracy: 0.7386 - val_loss: 0.8898 - val_accuracy: 0.6338\n",
            "Epoch 10/70\n",
            "53/53 [==============================] - ETA: 0s - loss: 0.6630 - accuracy: 0.7860\n",
            "Epoch 00010: val_accuracy improved from 0.63375 to 0.68402, saving model to best_model2.hdf5\n",
            "53/53 [==============================] - 256s 5s/step - loss: 0.6630 - accuracy: 0.7860 - val_loss: 0.8026 - val_accuracy: 0.6840\n",
            "Epoch 11/70\n",
            "53/53 [==============================] - ETA: 0s - loss: 0.5360 - accuracy: 0.8321\n",
            "Epoch 00011: val_accuracy improved from 0.68402 to 0.78636, saving model to best_model2.hdf5\n",
            "53/53 [==============================] - 257s 5s/step - loss: 0.5360 - accuracy: 0.8321 - val_loss: 0.6321 - val_accuracy: 0.7864\n",
            "Epoch 12/70\n",
            "53/53 [==============================] - ETA: 0s - loss: 0.4490 - accuracy: 0.8741\n",
            "Epoch 00012: val_accuracy did not improve from 0.78636\n",
            "53/53 [==============================] - 257s 5s/step - loss: 0.4490 - accuracy: 0.8741 - val_loss: 0.5986 - val_accuracy: 0.7684\n",
            "Epoch 13/70\n",
            "53/53 [==============================] - ETA: 0s - loss: 0.3798 - accuracy: 0.9071\n",
            "Epoch 00013: val_accuracy did not improve from 0.78636\n",
            "53/53 [==============================] - 258s 5s/step - loss: 0.3798 - accuracy: 0.9071 - val_loss: 0.5775 - val_accuracy: 0.7648\n",
            "Epoch 14/70\n",
            "53/53 [==============================] - ETA: 0s - loss: 0.3252 - accuracy: 0.9359\n",
            "Epoch 00014: val_accuracy improved from 0.78636 to 0.79354, saving model to best_model2.hdf5\n",
            "53/53 [==============================] - 256s 5s/step - loss: 0.3252 - accuracy: 0.9359 - val_loss: 0.5557 - val_accuracy: 0.7935\n",
            "Epoch 15/70\n",
            "53/53 [==============================] - ETA: 0s - loss: 0.2639 - accuracy: 0.9514\n",
            "Epoch 00015: val_accuracy improved from 0.79354 to 0.82406, saving model to best_model2.hdf5\n",
            "53/53 [==============================] - 257s 5s/step - loss: 0.2639 - accuracy: 0.9514 - val_loss: 0.5033 - val_accuracy: 0.8241\n",
            "Epoch 16/70\n",
            "53/53 [==============================] - ETA: 0s - loss: 0.2233 - accuracy: 0.9562\n",
            "Epoch 00016: val_accuracy did not improve from 0.82406\n",
            "53/53 [==============================] - 256s 5s/step - loss: 0.2233 - accuracy: 0.9562 - val_loss: 0.5441 - val_accuracy: 0.8151\n",
            "Epoch 17/70\n",
            "53/53 [==============================] - ETA: 0s - loss: 0.1695 - accuracy: 0.9676\n",
            "Epoch 00017: val_accuracy improved from 0.82406 to 0.86535, saving model to best_model2.hdf5\n",
            "53/53 [==============================] - 256s 5s/step - loss: 0.1695 - accuracy: 0.9676 - val_loss: 0.4433 - val_accuracy: 0.8654\n",
            "Epoch 18/70\n",
            "53/53 [==============================] - ETA: 0s - loss: 0.1624 - accuracy: 0.9652\n",
            "Epoch 00018: val_accuracy did not improve from 0.86535\n",
            "53/53 [==============================] - 258s 5s/step - loss: 0.1624 - accuracy: 0.9652 - val_loss: 0.4628 - val_accuracy: 0.8600\n",
            "Epoch 19/70\n",
            "53/53 [==============================] - ETA: 0s - loss: 0.1072 - accuracy: 0.9838\n",
            "Epoch 00019: val_accuracy improved from 0.86535 to 0.88869, saving model to best_model2.hdf5\n",
            "53/53 [==============================] - 257s 5s/step - loss: 0.1072 - accuracy: 0.9838 - val_loss: 0.3999 - val_accuracy: 0.8887\n",
            "Epoch 20/70\n",
            "53/53 [==============================] - ETA: 0s - loss: 0.0874 - accuracy: 0.9844\n",
            "Epoch 00020: val_accuracy did not improve from 0.88869\n",
            "53/53 [==============================] - 257s 5s/step - loss: 0.0874 - accuracy: 0.9844 - val_loss: 0.5773 - val_accuracy: 0.8169\n",
            "Epoch 21/70\n",
            "53/53 [==============================] - ETA: 0s - loss: 0.0858 - accuracy: 0.9802\n",
            "Epoch 00021: val_accuracy did not improve from 0.88869\n",
            "53/53 [==============================] - 258s 5s/step - loss: 0.0858 - accuracy: 0.9802 - val_loss: 0.5304 - val_accuracy: 0.8402\n",
            "Epoch 22/70\n",
            "53/53 [==============================] - ETA: 0s - loss: 0.0733 - accuracy: 0.9868\n",
            "Epoch 00022: val_accuracy did not improve from 0.88869\n",
            "53/53 [==============================] - 260s 5s/step - loss: 0.0733 - accuracy: 0.9868 - val_loss: 0.5216 - val_accuracy: 0.8671\n",
            "Epoch 23/70\n",
            "53/53 [==============================] - ETA: 0s - loss: 0.0687 - accuracy: 0.9856\n",
            "Epoch 00023: val_accuracy did not improve from 0.88869\n",
            "53/53 [==============================] - 259s 5s/step - loss: 0.0687 - accuracy: 0.9856 - val_loss: 0.4511 - val_accuracy: 0.8815\n",
            "Epoch 24/70\n",
            "53/53 [==============================] - ETA: 0s - loss: 0.0423 - accuracy: 0.9898\n",
            "Epoch 00024: val_accuracy did not improve from 0.88869\n",
            "53/53 [==============================] - 261s 5s/step - loss: 0.0423 - accuracy: 0.9898 - val_loss: 0.4927 - val_accuracy: 0.8689\n",
            "Epoch 25/70\n",
            "53/53 [==============================] - ETA: 0s - loss: 0.0411 - accuracy: 0.9910\n",
            "Epoch 00025: val_accuracy did not improve from 0.88869\n",
            "53/53 [==============================] - 259s 5s/step - loss: 0.0411 - accuracy: 0.9910 - val_loss: 0.4980 - val_accuracy: 0.8761\n",
            "Epoch 26/70\n",
            "53/53 [==============================] - ETA: 0s - loss: 0.0239 - accuracy: 0.9958\n",
            "Epoch 00026: val_accuracy improved from 0.88869 to 0.90664, saving model to best_model2.hdf5\n",
            "53/53 [==============================] - 261s 5s/step - loss: 0.0239 - accuracy: 0.9958 - val_loss: 0.3875 - val_accuracy: 0.9066\n",
            "Epoch 27/70\n",
            "53/53 [==============================] - ETA: 0s - loss: 0.0219 - accuracy: 0.9964\n",
            "Epoch 00027: val_accuracy did not improve from 0.90664\n",
            "53/53 [==============================] - 260s 5s/step - loss: 0.0219 - accuracy: 0.9964 - val_loss: 0.4998 - val_accuracy: 0.8743\n",
            "Epoch 28/70\n",
            "53/53 [==============================] - ETA: 0s - loss: 0.0262 - accuracy: 0.9940\n",
            "Epoch 00028: val_accuracy did not improve from 0.90664\n",
            "53/53 [==============================] - 261s 5s/step - loss: 0.0262 - accuracy: 0.9940 - val_loss: 0.5403 - val_accuracy: 0.8743\n",
            "Epoch 29/70\n",
            "53/53 [==============================] - ETA: 0s - loss: 0.0213 - accuracy: 0.9964\n",
            "Epoch 00029: val_accuracy did not improve from 0.90664\n",
            "53/53 [==============================] - 262s 5s/step - loss: 0.0213 - accuracy: 0.9964 - val_loss: 0.5270 - val_accuracy: 0.8851\n",
            "Epoch 30/70\n",
            "53/53 [==============================] - ETA: 0s - loss: 0.0218 - accuracy: 0.9946\n",
            "Epoch 00030: val_accuracy did not improve from 0.90664\n",
            "53/53 [==============================] - 261s 5s/step - loss: 0.0218 - accuracy: 0.9946 - val_loss: 0.5359 - val_accuracy: 0.8707\n",
            "Epoch 31/70\n",
            "53/53 [==============================] - ETA: 0s - loss: 0.0147 - accuracy: 0.9964\n",
            "Epoch 00031: val_accuracy did not improve from 0.90664\n",
            "53/53 [==============================] - 259s 5s/step - loss: 0.0147 - accuracy: 0.9964 - val_loss: 0.7434 - val_accuracy: 0.8223\n",
            "Epoch 32/70\n",
            "53/53 [==============================] - ETA: 0s - loss: 0.0229 - accuracy: 0.9946\n",
            "Epoch 00032: val_accuracy did not improve from 0.90664\n",
            "53/53 [==============================] - 260s 5s/step - loss: 0.0229 - accuracy: 0.9946 - val_loss: 0.4900 - val_accuracy: 0.8977\n",
            "Epoch 33/70\n",
            "53/53 [==============================] - ETA: 0s - loss: 0.0115 - accuracy: 0.9970\n",
            "Epoch 00033: val_accuracy did not improve from 0.90664\n",
            "53/53 [==============================] - 259s 5s/step - loss: 0.0115 - accuracy: 0.9970 - val_loss: 0.6038 - val_accuracy: 0.8654\n",
            "Epoch 34/70\n",
            "53/53 [==============================] - ETA: 0s - loss: 0.0054 - accuracy: 0.9988\n",
            "Epoch 00034: val_accuracy did not improve from 0.90664\n",
            "53/53 [==============================] - 258s 5s/step - loss: 0.0054 - accuracy: 0.9988 - val_loss: 0.5210 - val_accuracy: 0.8977\n",
            "Epoch 35/70\n",
            "53/53 [==============================] - ETA: 0s - loss: 0.0063 - accuracy: 0.9982\n",
            "Epoch 00035: val_accuracy did not improve from 0.90664\n",
            "53/53 [==============================] - 257s 5s/step - loss: 0.0063 - accuracy: 0.9982 - val_loss: 0.5622 - val_accuracy: 0.8869\n",
            "Epoch 36/70\n",
            "53/53 [==============================] - ETA: 0s - loss: 0.0039 - accuracy: 0.9988\n",
            "Epoch 00036: val_accuracy did not improve from 0.90664\n",
            "53/53 [==============================] - 258s 5s/step - loss: 0.0039 - accuracy: 0.9988 - val_loss: 0.6545 - val_accuracy: 0.8797\n",
            "Epoch 37/70\n",
            "53/53 [==============================] - ETA: 0s - loss: 0.0341 - accuracy: 0.9898\n",
            "Epoch 00037: val_accuracy did not improve from 0.90664\n",
            "53/53 [==============================] - 263s 5s/step - loss: 0.0341 - accuracy: 0.9898 - val_loss: 0.7656 - val_accuracy: 0.8492\n",
            "Epoch 38/70\n",
            "53/53 [==============================] - ETA: 0s - loss: 0.0026 - accuracy: 0.9994\n",
            "Epoch 00038: val_accuracy did not improve from 0.90664\n",
            "53/53 [==============================] - 260s 5s/step - loss: 0.0026 - accuracy: 0.9994 - val_loss: 0.7061 - val_accuracy: 0.8564\n",
            "Epoch 39/70\n",
            "53/53 [==============================] - ETA: 0s - loss: 0.0023 - accuracy: 0.9994\n",
            "Epoch 00039: val_accuracy did not improve from 0.90664\n",
            "53/53 [==============================] - 260s 5s/step - loss: 0.0023 - accuracy: 0.9994 - val_loss: 0.7059 - val_accuracy: 0.8761\n",
            "Epoch 40/70\n",
            "53/53 [==============================] - ETA: 0s - loss: 0.0013 - accuracy: 1.0000\n",
            "Epoch 00040: val_accuracy did not improve from 0.90664\n",
            "53/53 [==============================] - 258s 5s/step - loss: 0.0013 - accuracy: 1.0000 - val_loss: 0.8166 - val_accuracy: 0.8654\n",
            "Epoch 41/70\n",
            "53/53 [==============================] - ETA: 0s - loss: 0.0108 - accuracy: 0.9970\n",
            "Epoch 00041: val_accuracy did not improve from 0.90664\n",
            "53/53 [==============================] - 259s 5s/step - loss: 0.0108 - accuracy: 0.9970 - val_loss: 0.8355 - val_accuracy: 0.8564\n",
            "Epoch 42/70\n",
            "53/53 [==============================] - ETA: 0s - loss: 0.0017 - accuracy: 0.9994\n",
            "Epoch 00042: val_accuracy did not improve from 0.90664\n",
            "53/53 [==============================] - 257s 5s/step - loss: 0.0017 - accuracy: 0.9994 - val_loss: 0.8085 - val_accuracy: 0.8654\n",
            "Epoch 43/70\n",
            "53/53 [==============================] - ETA: 0s - loss: 0.0015 - accuracy: 0.9994\n",
            "Epoch 00043: val_accuracy did not improve from 0.90664\n",
            "53/53 [==============================] - 259s 5s/step - loss: 0.0015 - accuracy: 0.9994 - val_loss: 0.8946 - val_accuracy: 0.8384\n",
            "Epoch 44/70\n",
            "53/53 [==============================] - ETA: 0s - loss: 0.0097 - accuracy: 0.9970\n",
            "Epoch 00044: val_accuracy did not improve from 0.90664\n",
            "53/53 [==============================] - 262s 5s/step - loss: 0.0097 - accuracy: 0.9970 - val_loss: 0.6590 - val_accuracy: 0.8743\n",
            "Epoch 45/70\n",
            "53/53 [==============================] - ETA: 0s - loss: 5.1196e-04 - accuracy: 1.0000\n",
            "Epoch 00045: val_accuracy did not improve from 0.90664\n",
            "53/53 [==============================] - 262s 5s/step - loss: 5.1196e-04 - accuracy: 1.0000 - val_loss: 0.6397 - val_accuracy: 0.9013\n",
            "Epoch 46/70\n",
            "53/53 [==============================] - ETA: 0s - loss: 5.9745e-04 - accuracy: 1.0000\n",
            "Epoch 00046: val_accuracy did not improve from 0.90664\n",
            "53/53 [==============================] - 262s 5s/step - loss: 5.9745e-04 - accuracy: 1.0000 - val_loss: 1.0501 - val_accuracy: 0.8474\n",
            "Epoch 47/70\n",
            "53/53 [==============================] - ETA: 0s - loss: 0.0104 - accuracy: 0.9970\n",
            "Epoch 00047: val_accuracy did not improve from 0.90664\n",
            "53/53 [==============================] - 262s 5s/step - loss: 0.0104 - accuracy: 0.9970 - val_loss: 0.8023 - val_accuracy: 0.8833\n",
            "Epoch 48/70\n",
            "53/53 [==============================] - ETA: 0s - loss: 0.0038 - accuracy: 0.9994\n",
            "Epoch 00048: val_accuracy did not improve from 0.90664\n",
            "53/53 [==============================] - 260s 5s/step - loss: 0.0038 - accuracy: 0.9994 - val_loss: 0.7558 - val_accuracy: 0.8815\n",
            "Epoch 49/70\n",
            "53/53 [==============================] - ETA: 0s - loss: 1.0999e-04 - accuracy: 1.0000\n",
            "Epoch 00049: val_accuracy did not improve from 0.90664\n",
            "53/53 [==============================] - 263s 5s/step - loss: 1.0999e-04 - accuracy: 1.0000 - val_loss: 0.7144 - val_accuracy: 0.9013\n",
            "Epoch 50/70\n",
            "53/53 [==============================] - ETA: 0s - loss: 5.7653e-05 - accuracy: 1.0000\n",
            "Epoch 00050: val_accuracy improved from 0.90664 to 0.91203, saving model to best_model2.hdf5\n",
            "53/53 [==============================] - 261s 5s/step - loss: 5.7653e-05 - accuracy: 1.0000 - val_loss: 0.7797 - val_accuracy: 0.9120\n",
            "Epoch 51/70\n",
            "53/53 [==============================] - ETA: 0s - loss: 0.0186 - accuracy: 0.9964\n",
            "Epoch 00051: val_accuracy did not improve from 0.91203\n",
            "53/53 [==============================] - 262s 5s/step - loss: 0.0186 - accuracy: 0.9964 - val_loss: 1.1015 - val_accuracy: 0.8294\n",
            "Epoch 52/70\n",
            "53/53 [==============================] - ETA: 0s - loss: 0.0030 - accuracy: 0.9988\n",
            "Epoch 00052: val_accuracy did not improve from 0.91203\n",
            "53/53 [==============================] - 258s 5s/step - loss: 0.0030 - accuracy: 0.9988 - val_loss: 0.9791 - val_accuracy: 0.8420\n",
            "Epoch 53/70\n",
            "53/53 [==============================] - ETA: 0s - loss: 2.7610e-04 - accuracy: 1.0000\n",
            "Epoch 00053: val_accuracy did not improve from 0.91203\n",
            "53/53 [==============================] - 258s 5s/step - loss: 2.7610e-04 - accuracy: 1.0000 - val_loss: 0.8311 - val_accuracy: 0.8725\n",
            "Epoch 54/70\n",
            "53/53 [==============================] - ETA: 0s - loss: 0.0096 - accuracy: 0.9982\n",
            "Epoch 00054: val_accuracy did not improve from 0.91203\n",
            "53/53 [==============================] - 258s 5s/step - loss: 0.0096 - accuracy: 0.9982 - val_loss: 0.7291 - val_accuracy: 0.8869\n",
            "Epoch 55/70\n",
            "53/53 [==============================] - ETA: 0s - loss: 0.0052 - accuracy: 0.9988\n",
            "Epoch 00055: val_accuracy did not improve from 0.91203\n",
            "53/53 [==============================] - 258s 5s/step - loss: 0.0052 - accuracy: 0.9988 - val_loss: 0.8996 - val_accuracy: 0.8582\n",
            "Epoch 56/70\n",
            "53/53 [==============================] - ETA: 0s - loss: 3.6566e-04 - accuracy: 1.0000\n",
            "Epoch 00056: val_accuracy did not improve from 0.91203\n",
            "53/53 [==============================] - 258s 5s/step - loss: 3.6566e-04 - accuracy: 1.0000 - val_loss: 0.8487 - val_accuracy: 0.8671\n",
            "Epoch 57/70\n",
            "53/53 [==============================] - ETA: 0s - loss: 8.7311e-04 - accuracy: 0.9994\n",
            "Epoch 00057: val_accuracy did not improve from 0.91203\n",
            "53/53 [==============================] - 263s 5s/step - loss: 8.7311e-04 - accuracy: 0.9994 - val_loss: 0.8764 - val_accuracy: 0.8743\n",
            "Epoch 58/70\n",
            "53/53 [==============================] - ETA: 0s - loss: 0.0051 - accuracy: 0.9988\n",
            "Epoch 00058: val_accuracy did not improve from 0.91203\n",
            "53/53 [==============================] - 260s 5s/step - loss: 0.0051 - accuracy: 0.9988 - val_loss: 0.9500 - val_accuracy: 0.8528\n",
            "Epoch 59/70\n",
            "53/53 [==============================] - ETA: 0s - loss: 3.1987e-04 - accuracy: 1.0000\n",
            "Epoch 00059: val_accuracy did not improve from 0.91203\n",
            "53/53 [==============================] - 260s 5s/step - loss: 3.1987e-04 - accuracy: 1.0000 - val_loss: 0.8812 - val_accuracy: 0.8564\n",
            "Epoch 60/70\n",
            "53/53 [==============================] - ETA: 0s - loss: 2.3502e-05 - accuracy: 1.0000\n",
            "Epoch 00060: val_accuracy did not improve from 0.91203\n",
            "53/53 [==============================] - 260s 5s/step - loss: 2.3502e-05 - accuracy: 1.0000 - val_loss: 0.8877 - val_accuracy: 0.8761\n",
            "Epoch 61/70\n",
            "53/53 [==============================] - ETA: 0s - loss: 1.5960e-05 - accuracy: 1.0000\n",
            "Epoch 00061: val_accuracy did not improve from 0.91203\n",
            "53/53 [==============================] - 258s 5s/step - loss: 1.5960e-05 - accuracy: 1.0000 - val_loss: 0.7945 - val_accuracy: 0.8815\n",
            "Epoch 62/70\n",
            "53/53 [==============================] - ETA: 0s - loss: 0.0047 - accuracy: 0.9994\n",
            "Epoch 00062: val_accuracy did not improve from 0.91203\n",
            "53/53 [==============================] - 257s 5s/step - loss: 0.0047 - accuracy: 0.9994 - val_loss: 0.8729 - val_accuracy: 0.8995\n",
            "Epoch 63/70\n",
            "53/53 [==============================] - ETA: 0s - loss: 0.0057 - accuracy: 0.9982\n",
            "Epoch 00063: val_accuracy did not improve from 0.91203\n",
            "53/53 [==============================] - 257s 5s/step - loss: 0.0057 - accuracy: 0.9982 - val_loss: 1.0207 - val_accuracy: 0.8923\n",
            "Epoch 64/70\n",
            "53/53 [==============================] - ETA: 0s - loss: 8.9092e-04 - accuracy: 0.9994\n",
            "Epoch 00064: val_accuracy did not improve from 0.91203\n",
            "53/53 [==============================] - 257s 5s/step - loss: 8.9092e-04 - accuracy: 0.9994 - val_loss: 0.9178 - val_accuracy: 0.8887\n",
            "Epoch 65/70\n",
            "53/53 [==============================] - ETA: 0s - loss: 1.9646e-05 - accuracy: 1.0000\n",
            "Epoch 00065: val_accuracy did not improve from 0.91203\n",
            "53/53 [==============================] - 257s 5s/step - loss: 1.9646e-05 - accuracy: 1.0000 - val_loss: 0.7752 - val_accuracy: 0.9084\n",
            "Epoch 66/70\n",
            "53/53 [==============================] - ETA: 0s - loss: 5.5919e-06 - accuracy: 1.0000\n",
            "Epoch 00066: val_accuracy did not improve from 0.91203\n",
            "53/53 [==============================] - 258s 5s/step - loss: 5.5919e-06 - accuracy: 1.0000 - val_loss: 0.7493 - val_accuracy: 0.9120\n",
            "Epoch 67/70\n",
            "53/53 [==============================] - ETA: 0s - loss: 0.0023 - accuracy: 0.9994\n",
            "Epoch 00067: val_accuracy did not improve from 0.91203\n",
            "53/53 [==============================] - 261s 5s/step - loss: 0.0023 - accuracy: 0.9994 - val_loss: 0.9383 - val_accuracy: 0.8941\n",
            "Epoch 68/70\n",
            "53/53 [==============================] - ETA: 0s - loss: 0.0040 - accuracy: 0.9988\n",
            "Epoch 00068: val_accuracy did not improve from 0.91203\n",
            "53/53 [==============================] - 257s 5s/step - loss: 0.0040 - accuracy: 0.9988 - val_loss: 0.7962 - val_accuracy: 0.8995\n",
            "Epoch 69/70\n",
            "53/53 [==============================] - ETA: 0s - loss: 0.0057 - accuracy: 0.9988\n",
            "Epoch 00069: val_accuracy did not improve from 0.91203\n",
            "53/53 [==============================] - 259s 5s/step - loss: 0.0057 - accuracy: 0.9988 - val_loss: 0.7965 - val_accuracy: 0.8959\n",
            "Epoch 70/70\n",
            "53/53 [==============================] - ETA: 0s - loss: 3.2774e-04 - accuracy: 1.0000\n",
            "Epoch 00070: val_accuracy did not improve from 0.91203\n",
            "53/53 [==============================] - 258s 5s/step - loss: 3.2774e-04 - accuracy: 1.0000 - val_loss: 0.9795 - val_accuracy: 0.8671\n"
          ],
          "name": "stdout"
        }
      ]
    },
    {
      "cell_type": "markdown",
      "metadata": {
        "id": "gv3EZcjO0Ggh"
      },
      "source": [
        "## 1D Convolutional model"
      ]
    },
    {
      "cell_type": "code",
      "metadata": {
        "id": "ARqVuWZL0JE6"
      },
      "source": [
        "from keras import regularizers\n",
        "model3 = Sequential()\n",
        "model3.add(layers.Embedding(max_words, 40, input_length=max_len))\n",
        "model3.add(layers.Conv1D(20, 6, activation='relu',kernel_regularizer=regularizers.l1_l2(l1=2e-3, l2=2e-3),bias_regularizer=regularizers.l2(2e-3)))\n",
        "model3.add(layers.MaxPooling1D(5))\n",
        "model3.add(layers.Conv1D(20, 6, activation='relu',kernel_regularizer=regularizers.l1_l2(l1=2e-3, l2=2e-3),bias_regularizer=regularizers.l2(2e-3)))\n",
        "model3.add(layers.GlobalMaxPooling1D())\n",
        "model3.add(layers.Dense(5,activation='softmax'))\n",
        "model3.compile(optimizer='rmsprop',loss='categorical_crossentropy',metrics=['accuracy'])\n",
        "checkpoint3 = ModelCheckpoint(\"best_model3.hdf5\", monitor='val_accuracy', verbose=1,save_best_only=True, mode='auto', period=1,save_weights_only=False)\n",
        "history = model3.fit(X_train, y_train, epochs=70,validation_data=(X_test, y_test),callbacks=[checkpoint3])"
      ],
      "execution_count": null,
      "outputs": []
    },
    {
      "cell_type": "markdown",
      "metadata": {
        "id": "0BpdqA6erEyB"
      },
      "source": [
        "# **Best model validation**"
      ]
    },
    {
      "cell_type": "code",
      "metadata": {
        "id": "QpMqDcoyrOnO"
      },
      "source": [
        "#Let's load the best model obtained during training. The one with better results is the bidirectional model, So it is the one I´m gonna use.\n",
        "best_model = keras.models.load_model(\"best_model2.hdf5\")"
      ],
      "execution_count": null,
      "outputs": []
    },
    {
      "cell_type": "code",
      "metadata": {
        "id": "yzkbnhawrWX1",
        "colab": {
          "base_uri": "https://localhost:8080/"
        },
        "outputId": "2809a3be-7185-4de8-98f2-761e83ef3f34"
      },
      "source": [
        "test_loss, test_acc = best_model.evaluate(X_test, y_test, verbose=2)\n",
        "print('Model accuracy: ',test_acc)"
      ],
      "execution_count": null,
      "outputs": [
        {
          "output_type": "stream",
          "text": [
            "WARNING:tensorflow:Model was constructed with shape (None, 150) for input Tensor(\"embedding_8_input_1:0\", shape=(None, 150), dtype=float32), but it was called on an input with incompatible shape (None, 4278).\n",
            "18/18 - 6s - loss: 0.7797 - accuracy: 0.9120\n",
            "Model accuracy:  0.9120287299156189\n"
          ],
          "name": "stdout"
        }
      ]
    },
    {
      "cell_type": "code",
      "metadata": {
        "id": "eqFzYq2_wL1z",
        "colab": {
          "base_uri": "https://localhost:8080/"
        },
        "outputId": "6cab99b2-c294-47ba-a653-dd624057be09"
      },
      "source": [
        "predictions = best_model.predict(X_test)"
      ],
      "execution_count": null,
      "outputs": [
        {
          "output_type": "stream",
          "text": [
            "WARNING:tensorflow:Model was constructed with shape (None, 150) for input Tensor(\"embedding_8_input_1:0\", shape=(None, 150), dtype=float32), but it was called on an input with incompatible shape (None, 4278).\n"
          ],
          "name": "stdout"
        }
      ]
    },
    {
      "cell_type": "markdown",
      "metadata": {
        "id": "qSKFWJpTwOad"
      },
      "source": [
        "## Confusion matrix"
      ]
    },
    {
      "cell_type": "code",
      "metadata": {
        "id": "ScKTwLCswTmi"
      },
      "source": [
        "#The accuracy is not a good metric to measure how well a model is. That's the reason why I like to always see its confusion matrix, \n",
        "#that way I have a better understanding of its classification and generalization ability\n",
        "from sklearn.metrics import confusion_matrix\n",
        "matrix = confusion_matrix(y_test.argmax(axis=1), np.around(predictions, decimals=0).argmax(axis=1))"
      ],
      "execution_count": null,
      "outputs": []
    },
    {
      "cell_type": "code",
      "metadata": {
        "id": "S3UAgzfCwW8O",
        "colab": {
          "base_uri": "https://localhost:8080/",
          "height": 880
        },
        "outputId": "49aaf789-d880-4345-d958-ec2a27358b82"
      },
      "source": [
        "import seaborn as sns\n",
        "conf_matrix = pd.DataFrame(matrix, index = ['business', 'entertainment', 'politics', 'sport', 'tech'],columns = ['business', 'entertainment', 'politics', 'sport', 'tech'])\n",
        "#Normalizing\n",
        "conf_matrix = conf_matrix.astype('float') / conf_matrix.sum(axis=1)[:, np.newaxis]\n",
        "plt.figure(figsize = (15,15))\n",
        "sns.heatmap(conf_matrix, annot=True, annot_kws={\"size\": 15})"
      ],
      "execution_count": null,
      "outputs": [
        {
          "output_type": "execute_result",
          "data": {
            "text/plain": [
              "<matplotlib.axes._subplots.AxesSubplot at 0x7fc2b09e86a0>"
            ]
          },
          "metadata": {
            "tags": []
          },
          "execution_count": 89
        },
        {
          "output_type": "display_data",
          "data": {
            "image/png": "[encoded data removed]",
            "text/plain": [
              "<Figure size 1080x1080 with 2 Axes>"
            ]
          },
          "metadata": {
            "tags": [],
            "needs_background": "light"
          }
        }
      ]
    },
    {
      "cell_type": "markdown",
      "metadata": {
        "id": "LjrsKIqjGwKn"
      },
      "source": [
        "### Textos de ejemplo para testeo"
      ]
    },
    {
      "cell_type": "code",
      "metadata": {
        "id": "tGmugJmJwqGq"
      },
      "source": [
        "type = ['business', 'entertainment', 'politics', 'sport', 'tech']"
      ],
      "execution_count": null,
      "outputs": []
    },
    {
      "cell_type": "code",
      "metadata": {
        "id": "rwHt4-b7w6zs",
        "colab": {
          "base_uri": "https://localhost:8080/",
          "height": 35
        },
        "outputId": "2180166a-1c75-469a-80bb-45a3804d0b45"
      },
      "source": [
        "sequence = tokenizer.texts_to_sequences(['In a landmark lawsuit, US regulators have accused Facebook of buying up rivals in order to stifle competition.'])\n",
        "test = pad_sequences(sequence, maxlen=max_len)\n",
        "type[np.around(best_model.predict(test), decimals=0).argmax(axis=1)[0]]"
      ],
      "execution_count": null,
      "outputs": [
        {
          "output_type": "execute_result",
          "data": {
            "application/vnd.google.colaboratory.intrinsic+json": {
              "type": "string"
            },
            "text/plain": [
              "'business'"
            ]
          },
          "metadata": {
            "tags": []
          },
          "execution_count": 116
        }
      ]
    },
    {
      "cell_type": "code",
      "metadata": {
        "id": "FIsby9_mw65j",
        "colab": {
          "base_uri": "https://localhost:8080/",
          "height": 35
        },
        "outputId": "58190cdd-9c13-4438-f40c-45a0d8d76d9a"
      },
      "source": [
        "sequence = tokenizer.texts_to_sequences(['How could a no-deal Brexit affect Scotland?'])\n",
        "test = pad_sequences(sequence, maxlen=max_len)\n",
        "type[np.around(best_model.predict(test), decimals=0).argmax(axis=1)[0]]"
      ],
      "execution_count": null,
      "outputs": [
        {
          "output_type": "execute_result",
          "data": {
            "application/vnd.google.colaboratory.intrinsic+json": {
              "type": "string"
            },
            "text/plain": [
              "'politics'"
            ]
          },
          "metadata": {
            "tags": []
          },
          "execution_count": 124
        }
      ]
    },
    {
      "cell_type": "code",
      "metadata": {
        "id": "ybmORLogw7dc",
        "colab": {
          "base_uri": "https://localhost:8080/",
          "height": 35
        },
        "outputId": "ca7918df-5ac2-47fc-8796-3a5a87a68ed2"
      },
      "source": [
        "sequence = tokenizer.texts_to_sequences(['Leo Messi has won a new trophy'])\n",
        "test = pad_sequences(sequence, maxlen=max_len)\n",
        "type[np.around(best_model.predict(test), decimals=0).argmax(axis=1)[0]]"
      ],
      "execution_count": null,
      "outputs": [
        {
          "output_type": "execute_result",
          "data": {
            "application/vnd.google.colaboratory.intrinsic+json": {
              "type": "string"
            },
            "text/plain": [
              "'sport'"
            ]
          },
          "metadata": {
            "tags": []
          },
          "execution_count": 96
        }
      ]
    },
    {
      "cell_type": "code",
      "metadata": {
        "colab": {
          "base_uri": "https://localhost:8080/",
          "height": 35
        },
        "id": "lg5qMbIjDTIx",
        "outputId": "2518390e-747f-4ed6-81ce-6d0867c5bc6b"
      },
      "source": [
        "sequence = tokenizer.texts_to_sequences(['The Last Of Us Part 2 has won game of the year at the 2020 Game Awards.'])\n",
        "test = pad_sequences(sequence, maxlen=max_len)\n",
        "type[np.around(best_model.predict(test), decimals=0).argmax(axis=1)[0]]"
      ],
      "execution_count": null,
      "outputs": [
        {
          "output_type": "execute_result",
          "data": {
            "application/vnd.google.colaboratory.intrinsic+json": {
              "type": "string"
            },
            "text/plain": [
              "'sport'"
            ]
          },
          "metadata": {
            "tags": []
          },
          "execution_count": 125
        }
      ]
    },
    {
      "cell_type": "markdown",
      "metadata": {
        "id": "j1hT1jbrDQUL"
      },
      "source": [
        "### Textos usados en otros modelos"
      ]
    },
    {
      "cell_type": "code",
      "metadata": {
        "id": "awDNIrybw3Aw",
        "colab": {
          "base_uri": "https://localhost:8080/",
          "height": 35
        },
        "outputId": "91b7eab9-27c7-4b84-b089-e90a376b9f51"
      },
      "source": [
        "sequence = tokenizer.texts_to_sequences(['How to be the president of the United States of America.'])\n",
        "test = pad_sequences(sequence, maxlen=max_len)\n",
        "type[np.around(best_model.predict(test), decimals=0).argmax(axis=1)[0]]"
      ],
      "execution_count": null,
      "outputs": [
        {
          "output_type": "execute_result",
          "data": {
            "application/vnd.google.colaboratory.intrinsic+json": {
              "type": "string"
            },
            "text/plain": [
              "'business'"
            ]
          },
          "metadata": {
            "tags": []
          },
          "execution_count": 98
        }
      ]
    },
    {
      "cell_type": "code",
      "metadata": {
        "colab": {
          "base_uri": "https://localhost:8080/",
          "height": 35
        },
        "id": "zebJqxMmDe9b",
        "outputId": "a91c2065-6436-4431-a1b6-e34036ecdfe6"
      },
      "source": [
        "sequence = tokenizer.texts_to_sequences(['The match was played in the field of Manchester United. Anthony Martial scored the lonely goal of the night'])\n",
        "test = pad_sequences(sequence, maxlen=max_len)\n",
        "type[np.around(best_model.predict(test), decimals=0).argmax(axis=1)[0]]"
      ],
      "execution_count": null,
      "outputs": [
        {
          "output_type": "execute_result",
          "data": {
            "application/vnd.google.colaboratory.intrinsic+json": {
              "type": "string"
            },
            "text/plain": [
              "'sport'"
            ]
          },
          "metadata": {
            "tags": []
          },
          "execution_count": 99
        }
      ]
    },
    {
      "cell_type": "code",
      "metadata": {
        "colab": {
          "base_uri": "https://localhost:8080/",
          "height": 35
        },
        "id": "O3Y6cCvjDfhi",
        "outputId": "e476cc37-b61f-4be6-a5b0-3a08eda8d92b"
      },
      "source": [
        "sequence = tokenizer.texts_to_sequences(['The TESLA actions have fluctuated in this period. They are not gonna be profitable'])\n",
        "test = pad_sequences(sequence, maxlen=max_len)\n",
        "type[np.around(best_model.predict(test), decimals=0).argmax(axis=1)[0]]"
      ],
      "execution_count": null,
      "outputs": [
        {
          "output_type": "execute_result",
          "data": {
            "application/vnd.google.colaboratory.intrinsic+json": {
              "type": "string"
            },
            "text/plain": [
              "'business'"
            ]
          },
          "metadata": {
            "tags": []
          },
          "execution_count": 100
        }
      ]
    },
    {
      "cell_type": "code",
      "metadata": {
        "colab": {
          "base_uri": "https://localhost:8080/",
          "height": 35
        },
        "id": "lt6NcniNDfrC",
        "outputId": "dc9cfd87-aa49-4701-d44c-b0f518a242cf"
      },
      "source": [
        "sequence = tokenizer.texts_to_sequences(['The Simpsons are going to lose one character: Apu Nahasapeemapetilon'])\n",
        "test = pad_sequences(sequence, maxlen=max_len)\n",
        "type[np.around(best_model.predict(test), decimals=0).argmax(axis=1)[0]]"
      ],
      "execution_count": null,
      "outputs": [
        {
          "output_type": "execute_result",
          "data": {
            "application/vnd.google.colaboratory.intrinsic+json": {
              "type": "string"
            },
            "text/plain": [
              "'entertainment'"
            ]
          },
          "metadata": {
            "tags": []
          },
          "execution_count": 101
        }
      ]
    },
    {
      "cell_type": "code",
      "metadata": {
        "colab": {
          "base_uri": "https://localhost:8080/",
          "height": 35
        },
        "id": "XPA-cX_bDfzC",
        "outputId": "27ae731d-325c-4f55-a3a9-af6333a5891c"
      },
      "source": [
        "sequence = tokenizer.texts_to_sequences(['The new computer has been built based on a Raspberry pi 4'])\n",
        "test = pad_sequences(sequence, maxlen=max_len)\n",
        "type[np.around(best_model.predict(test), decimals=0).argmax(axis=1)[0]]"
      ],
      "execution_count": null,
      "outputs": [
        {
          "output_type": "execute_result",
          "data": {
            "application/vnd.google.colaboratory.intrinsic+json": {
              "type": "string"
            },
            "text/plain": [
              "'tech'"
            ]
          },
          "metadata": {
            "tags": []
          },
          "execution_count": 102
        }
      ]
    },
    {
      "cell_type": "code",
      "metadata": {
        "colab": {
          "base_uri": "https://localhost:8080/",
          "height": 35
        },
        "id": "2nBH-y7KDuJU",
        "outputId": "f64bcac7-029e-4d95-a508-a26e148b5129"
      },
      "source": [
        "sequence = tokenizer.texts_to_sequences(['George Bush has landed a new attack on Syria'])\n",
        "test = pad_sequences(sequence, maxlen=max_len)\n",
        "type[np.around(best_model.predict(test), decimals=0).argmax(axis=1)[0]]"
      ],
      "execution_count": null,
      "outputs": [
        {
          "output_type": "execute_result",
          "data": {
            "application/vnd.google.colaboratory.intrinsic+json": {
              "type": "string"
            },
            "text/plain": [
              "'entertainment'"
            ]
          },
          "metadata": {
            "tags": []
          },
          "execution_count": 110
        }
      ]
    },
    {
      "cell_type": "code",
      "metadata": {
        "colab": {
          "base_uri": "https://localhost:8080/",
          "height": 35
        },
        "id": "cw0JCQCHD0WD",
        "outputId": "db35907b-c085-4a29-9652-29b307d156a5"
      },
      "source": [
        "sequence = tokenizer.texts_to_sequences(['US has sent military reinforcements to win the war'])\n",
        "test = pad_sequences(sequence, maxlen=max_len)\n",
        "type[np.around(best_model.predict(test), decimals=0).argmax(axis=1)[0]]"
      ],
      "execution_count": null,
      "outputs": [
        {
          "output_type": "execute_result",
          "data": {
            "application/vnd.google.colaboratory.intrinsic+json": {
              "type": "string"
            },
            "text/plain": [
              "'sport'"
            ]
          },
          "metadata": {
            "tags": []
          },
          "execution_count": 107
        }
      ]
    },
    {
      "cell_type": "code",
      "metadata": {
        "colab": {
          "base_uri": "https://localhost:8080/",
          "height": 35
        },
        "id": "5u7WOi-zD0eo",
        "outputId": "ceb9e5cb-f83e-4e76-983e-ce2b16b0e019"
      },
      "source": [
        "sequence = tokenizer.texts_to_sequences(['Manchester United scored a precious goal aganist chelsea'])\n",
        "test = pad_sequences(sequence, maxlen=max_len)\n",
        "type[np.around(best_model.predict(test), decimals=0).argmax(axis=1)[0]]"
      ],
      "execution_count": null,
      "outputs": [
        {
          "output_type": "execute_result",
          "data": {
            "application/vnd.google.colaboratory.intrinsic+json": {
              "type": "string"
            },
            "text/plain": [
              "'sport'"
            ]
          },
          "metadata": {
            "tags": []
          },
          "execution_count": 106
        }
      ]
    },
    {
      "cell_type": "code",
      "metadata": {
        "colab": {
          "base_uri": "https://localhost:8080/",
          "height": 35
        },
        "id": "veZWZkfdEUqH",
        "outputId": "ef31b1cb-7e20-42e4-aca4-76c3f4092a92"
      },
      "source": [
        "sequence = tokenizer.texts_to_sequences(['The movie was cool. The animation and the graphics were out of this world. I would recommend this movie.'])\n",
        "test = pad_sequences(sequence, maxlen=max_len)\n",
        "type[np.around(best_model.predict(test), decimals=0).argmax(axis=1)[0]]"
      ],
      "execution_count": null,
      "outputs": [
        {
          "output_type": "execute_result",
          "data": {
            "application/vnd.google.colaboratory.intrinsic+json": {
              "type": "string"
            },
            "text/plain": [
              "'entertainment'"
            ]
          },
          "metadata": {
            "tags": []
          },
          "execution_count": 108
        }
      ]
    }
  ]
}